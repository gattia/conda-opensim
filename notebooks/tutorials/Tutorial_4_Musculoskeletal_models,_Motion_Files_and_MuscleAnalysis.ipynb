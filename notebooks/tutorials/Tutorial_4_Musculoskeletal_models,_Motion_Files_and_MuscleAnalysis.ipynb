{
  "nbformat": 4,
  "nbformat_minor": 0,
  "metadata": {
    "colab": {
      "provenance": [],
      "collapsed_sections": [],
      "include_colab_link": true
    },
    "kernelspec": {
      "name": "python3",
      "display_name": "Python 3"
    },
    "language_info": {
      "name": "python"
    }
  },
  "cells": [
    {
      "cell_type": "markdown",
      "metadata": {
        "id": "view-in-github",
        "colab_type": "text"
      },
      "source": [
        "<a href=\"https://colab.research.google.com/github/opensim-org/conda-opensim/blob/master/notebooks/tutorials/Tutorial_4_Musculoskeletal_models%2C_Motion_Files_and_MuscleAnalysis.ipynb\" target=\"_parent\"><img src=\"https://colab.research.google.com/assets/colab-badge.svg\" alt=\"Open In Colab\"/></a>"
      ]
    },
    {
      "cell_type": "markdown",
      "source": [
        "# 4. Musculoskeletal models, Motion Files and MuscleAnalysis"
      ],
      "metadata": {
        "id": "vOsTxESLc7wl"
      }
    },
    {
      "cell_type": "markdown",
      "source": [
        "## 4.1. Objectives"
      ],
      "metadata": {
        "id": "SwX6QwGU0Jwj"
      }
    },
    {
      "cell_type": "markdown",
      "source": [
        "**Introduction**\n",
        "\n",
        "Musculoskeletal models enable us to study neuromuscular coordination, analyze athletic performance and estimate musculoskeletal loads [[1]](https://mitpress.mit.edu/9780262044202/biomechanics-of-movement/). In [OpenSim](https://opensim.stanford.edu/) [[2]](https://doi.org/10.1109/TBME.2007.901024), a musculoskeletal model consists of rigid body segments connected by joints. Muscles span these joints and generate forces and motion. Once a musculoskeletal model is created, OpenSim enables users to create custom studies, including investigating the effects of musculoskeletal geometry, joint kinematics, and muscle-tendon properties on the forces and joint moments the muscles can produce. With OpenSim, our goal is to provide a framework that allows the biomechanics community to create, share, and extend a library of models and dynamic simulation tools that can be used to study and quantify human and animal movement.  \n",
        "\n",
        "**Purpose**\n",
        "\n",
        "The purpose of this tutorial is to introduce users to the use of Conda OpenSim for musculoskeletal modeling by demonstrating the utility of this framework to investigate how muscle-tendon lengths and moment arms depend on limb configuration. In this tutorial, you will:\n",
        "\n",
        "*   Become familiar with OpenSim's API.\n",
        "*   Discover some limitations of musculoskeletal models.\n",
        "*   Learn to work with motion files.\n",
        "*   Learn to use the MuscleAnalysis tool.\n",
        "*   Use OpenSim to approach an important clinical problem.\n",
        "\n",
        "**Format**\n",
        "\n",
        "Each section of the tutorial guides you through certain tools within OpenSim and asks you to answer a few questions. The questions can be answered based on information from OpenSim and basic knowledge of the human musculoskeletal system. As you complete each section of the tutorial, feel free to explore OpenSim and the lower extremity model further on your own."
      ],
      "metadata": {
        "id": "4p_3qlB60Np3"
      }
    },
    {
      "cell_type": "markdown",
      "source": [
        "## 4.2. Setup Conda and OpenSim"
      ],
      "metadata": {
        "id": "ADllcxbsjTr8"
      }
    },
    {
      "cell_type": "markdown",
      "source": [
        "First, set up the environment by executing the following cell (See ***Tutorial 1: Introduction to OpenSim in Colab***)."
      ],
      "metadata": {
        "id": "mmmTuEI4HQJG"
      }
    },
    {
      "cell_type": "code",
      "execution_count": null,
      "metadata": {
        "colab": {
          "base_uri": "https://localhost:8080/"
        },
        "outputId": "71436bea-1d9b-4777-b497-2be22354c766",
        "id": "0w9LYQXx5TO4"
      },
      "outputs": [
        {
          "output_type": "stream",
          "name": "stdout",
          "text": [
            "\u001b[33mWARNING: Running pip as the 'root' user can result in broken permissions and conflicting behaviour with the system package manager. It is recommended to use a virtual environment instead: https://pip.pypa.io/warnings/venv\u001b[0m\u001b[33m\n",
            "\u001b[0m✨🍰✨ Everything looks OK!\n"
          ]
        }
      ],
      "source": [
        "!pip install -q condacolab\n",
        "import condacolab\n",
        "condacolab.install()"
      ]
    },
    {
      "cell_type": "markdown",
      "source": [
        "Now, let's install the OpenSim conda package."
      ],
      "metadata": {
        "id": "cNHGuMza5TO4"
      }
    },
    {
      "cell_type": "code",
      "source": [
        "!conda install -c opensim-org opensim"
      ],
      "metadata": {
        "id": "vWf9ObZJ5TO5",
        "colab": {
          "base_uri": "https://localhost:8080/"
        },
        "outputId": "3d5e85d0-ca2b-4c7c-8d11-4c922e9d4443"
      },
      "execution_count": null,
      "outputs": [
        {
          "output_type": "stream",
          "name": "stdout",
          "text": [
            "Collecting package metadata (current_repodata.json): - \b\b\\ \b\b| \b\b/ \b\b- \b\b\\ \b\b| \b\b/ \b\b- \b\b\\ \b\b| \b\b/ \b\b- \b\b\\ \b\b| \b\b/ \b\b- \b\b\\ \b\b| \b\b/ \b\b- \b\b\\ \b\b| \b\b/ \b\b- \b\b\\ \b\b| \b\b/ \b\b- \b\b\\ \b\b| \b\b/ \b\b- \b\b\\ \b\b| \b\b/ \b\b- \b\b\\ \b\b| \b\b/ \b\b- \b\b\\ \b\b| \b\b/ \b\b- \b\b\\ \b\b| \b\b/ \b\b- \b\b\\ \b\b| \b\b/ \b\b- \b\b\\ \b\b| \b\b/ \b\b- \b\b\\ \b\b| \b\b/ \b\b- \b\b\\ \b\b| \b\b/ \b\b- \b\b\\ \b\b| \b\b/ \b\b- \b\b\\ \b\b| \b\b/ \b\b- \b\b\\ \b\b| \b\b/ \b\b- \b\b\\ \b\b| \b\b/ \b\b- \b\b\\ \b\b| \b\b/ \b\b- \b\b\\ \b\b| \b\b/ \b\b- \b\b\\ \b\b| \b\b/ \b\b- \b\b\\ \b\b| \b\b/ \b\b- \b\b\\ \b\b| \b\b/ \b\b- \b\b\\ \b\b| \b\b/ \b\b- \b\b\\ \b\b| \b\b/ \b\b- \b\b\\ \b\b| \b\b/ \b\b- \b\b\\ \b\b| \b\b/ \b\b- \b\b\\ \b\b| \b\b/ \b\b- \b\b\\ \b\b| \b\b/ \b\b- \b\b\\ \b\b| \b\b/ \b\b- \b\b\\ \b\b| \b\b/ \b\b- \b\b\\ \b\b| \b\b/ \b\b- \b\b\\ \b\b| \b\b/ \b\b- \b\b\\ \b\b| \b\b/ \b\b- \b\b\\ \b\b| \b\b/ \b\b- \b\bdone\n",
            "Solving environment: | \b\b/ \b\b- \b\b\\ \b\b| \b\b/ \b\b- \b\b\\ \b\b| \b\b/ \b\b- \b\b\\ \b\b| \b\b/ \b\b- \b\b\\ \b\b| \b\b/ \b\b- \b\b\\ \b\b| \b\b/ \b\b- \b\bdone\n",
            "\n",
            "# All requested packages already installed.\n",
            "\n",
            "Retrieving notices: ...working... done\n"
          ]
        }
      ]
    },
    {
      "cell_type": "markdown",
      "source": [
        "## 4.3. Downloading and exploring the model"
      ],
      "metadata": {
        "id": "4gtTNdaO8wOI"
      }
    },
    {
      "cell_type": "markdown",
      "source": [
        "In this section, you will download a model of the lower extremity [[3]](https://doi.org/10.1109/10.102791), and then load it into OpenSim. The model represents an adult subject with an approximate height of 1.8 m and an approximate mass of 75 kg. The model consists of 13 rigid body segments and includes the lines of action of 92 muscles (43 per leg and 6 at the torso)."
      ],
      "metadata": {
        "id": "SJ2b6Dx10dD5"
      }
    },
    {
      "cell_type": "markdown",
      "source": [
        "First, let's download the model from the GitHub repository."
      ],
      "metadata": {
        "id": "TIQp3TtGYMyQ"
      }
    },
    {
      "cell_type": "code",
      "source": [
        "import requests\n",
        "\n",
        "# TODO Host tutorial models elsewhere?\n",
        "# Download the model from the GitHub repository.\n",
        "url = 'https://raw.githubusercontent.com/opensim-org/opensim-models/master/Models/Gait2392_Simbody/subject01.osim'\n",
        "req = requests.get(url, allow_redirects=True)\n",
        "open('gait2392.osim', 'wb').write(req.content)"
      ],
      "metadata": {
        "colab": {
          "base_uri": "https://localhost:8080/"
        },
        "id": "EAb6JtzeYObU",
        "outputId": "04a2f4f0-edfa-487f-cfb4-fa733a8f3861"
      },
      "execution_count": null,
      "outputs": [
        {
          "output_type": "execute_result",
          "data": {
            "text/plain": [
              "565367"
            ]
          },
          "metadata": {},
          "execution_count": 5
        }
      ]
    },
    {
      "cell_type": "markdown",
      "source": [
        "Now, let's import opensim, load the model, and print some metadata."
      ],
      "metadata": {
        "id": "_F6Hrnjba7vL"
      }
    },
    {
      "cell_type": "code",
      "source": [
        "import opensim as osim\n",
        "\n",
        "# Load the model.\n",
        "gait2392 = osim.Model('gait2392.osim')\n",
        "\n",
        "# Print metadata.\n",
        "print(\"Name of the model:\", gait2392.getName())\n",
        "print(\"Author:\", gait2392.get_credits())\n",
        "print(\"Publications:\", gait2392.get_publications())\n",
        "print(\"Length Unit:\", gait2392.get_length_units())\n",
        "print(\"Force Unit:\", gait2392.get_force_units())\n",
        "print(\"Gravity:\", gait2392.get_gravity())"
      ],
      "metadata": {
        "colab": {
          "base_uri": "https://localhost:8080/"
        },
        "id": "fmGIZ0Hl8z_G",
        "outputId": "d4882745-1fd8-4856-eddc-d307903217aa"
      },
      "execution_count": null,
      "outputs": [
        {
          "output_type": "stream",
          "name": "stdout",
          "text": [
            "Name of the model: subject01\n",
            "Author: Delp S.L., Loan J.P., Hoy M.G., Zajac F.E., Topp E.L., Rosen J.M., Thelen D.G., Anderson F.C., Seth A. Notes: 3D, 23 DOF gait model created by D.G. Thelen, Univ. of Wisconsin-Madison, and Ajay Seth, Frank C. Anderson, and Scott L. Delp, Stanford University. Lower extremity joint defintions based on Delp et al. (1990). Low back joint and anthropometry based on Anderson and Pandy (1999, 2001). Planar knee model of Yamaguchi and Zajac (1989). Seth replaced tibia translation constraints with a CustomJoint for the knee and removed the patella to eliminate all kinematic constraints; insertions of the quadrucepts are handled with moving points in the tibia frame as defined by Delp 1990. License: Creative Commons (CCBY 3.0). You are free to distribute, remix, tweak, and build upon this work, even commercially, as long as you credit us for the original creation. http://creativecommons.org/licenses/by/3.0/ More Information: http://simtk-confluence.stanford.edu:8080/display/OpenSim/Gait+2392+and+2354+Models\n",
            "Publications: Delp, S.L., Loan, J.P., Hoy, M.G., Zajac, F.E., Topp E.L., Rosen, J.M.: An interactive graphics-based model of the lower extremity to study orthopaedic surgical procedures, IEEE Transactions on Biomedical Engineering, vol. 37, pp. 757-767, 1990. Yamaguchi G.T., Zajac F.E.: A planar model of the knee joint to characterize the knee extensor mechanism.\" J . Biomecl7. vol. 21. pp. 1-10. 1989. Anderson F.C., Pandy M.G.: A dynamic optimization solution for vertical jumping in three dimensions. Computer Methods in Biomechanics and Biomedical Engineering 2:201-231, 1999. Anderson F.C., Pandy M.G.: Dynamic optimization of human walking. Journal of Biomechanical Engineering 123:381-390, 2001.\n",
            "Length Unit: meters\n",
            "Force Unit: N\n",
            "Gravity: ~[0,-9.80665,0]\n"
          ]
        }
      ]
    },
    {
      "cell_type": "markdown",
      "source": [
        "Finally, let's explore the coordinates of the model. We know the model has 23 coordinates from the name of the model file."
      ],
      "metadata": {
        "id": "hW93EJzR9dFx"
      }
    },
    {
      "cell_type": "code",
      "source": [
        "# Print number of coordinates.\n",
        "print(\"Num Coordinates:\", gait2392.getNumCoordinates())\n",
        "print()\n",
        "\n",
        "# For each coordinate, print some information like its name or motion type.\n",
        "for coordinate in gait2392.getCoordinateSet():\n",
        "  print(\"  Coordinate Name:\", coordinate.getName())\n",
        "  print(\"  Coordinate Absolute Path:\", coordinate.getAbsolutePathString())\n",
        "  print(\"  Coordinate Motion Type:\", coordinate.getMotionType())\n",
        "  \n",
        "  print()"
      ],
      "metadata": {
        "id": "dj2PFUrD9gbF",
        "colab": {
          "base_uri": "https://localhost:8080/"
        },
        "outputId": "ead01eea-2a11-4d7c-de6c-f25433104aee"
      },
      "execution_count": null,
      "outputs": [
        {
          "output_type": "stream",
          "name": "stdout",
          "text": [
            "Num Coordinates: 23\n",
            "\n",
            "  Coordinate Name: pelvis_tilt\n",
            "  Coordinate Absolute Path: /jointset/ground_pelvis/pelvis_tilt\n",
            "  Coordinate Motion Type: 1\n",
            "\n",
            "  Coordinate Name: pelvis_list\n",
            "  Coordinate Absolute Path: /jointset/ground_pelvis/pelvis_list\n",
            "  Coordinate Motion Type: 1\n",
            "\n",
            "  Coordinate Name: pelvis_rotation\n",
            "  Coordinate Absolute Path: /jointset/ground_pelvis/pelvis_rotation\n",
            "  Coordinate Motion Type: 1\n",
            "\n",
            "  Coordinate Name: pelvis_tx\n",
            "  Coordinate Absolute Path: /jointset/ground_pelvis/pelvis_tx\n",
            "  Coordinate Motion Type: 2\n",
            "\n",
            "  Coordinate Name: pelvis_ty\n",
            "  Coordinate Absolute Path: /jointset/ground_pelvis/pelvis_ty\n",
            "  Coordinate Motion Type: 2\n",
            "\n",
            "  Coordinate Name: pelvis_tz\n",
            "  Coordinate Absolute Path: /jointset/ground_pelvis/pelvis_tz\n",
            "  Coordinate Motion Type: 2\n",
            "\n",
            "  Coordinate Name: hip_flexion_r\n",
            "  Coordinate Absolute Path: /jointset/hip_r/hip_flexion_r\n",
            "  Coordinate Motion Type: 1\n",
            "\n",
            "  Coordinate Name: hip_adduction_r\n",
            "  Coordinate Absolute Path: /jointset/hip_r/hip_adduction_r\n",
            "  Coordinate Motion Type: 1\n",
            "\n",
            "  Coordinate Name: hip_rotation_r\n",
            "  Coordinate Absolute Path: /jointset/hip_r/hip_rotation_r\n",
            "  Coordinate Motion Type: 1\n",
            "\n",
            "  Coordinate Name: knee_angle_r\n",
            "  Coordinate Absolute Path: /jointset/knee_r/knee_angle_r\n",
            "  Coordinate Motion Type: 1\n",
            "\n",
            "  Coordinate Name: ankle_angle_r\n",
            "  Coordinate Absolute Path: /jointset/ankle_r/ankle_angle_r\n",
            "  Coordinate Motion Type: 1\n",
            "\n",
            "  Coordinate Name: subtalar_angle_r\n",
            "  Coordinate Absolute Path: /jointset/subtalar_r/subtalar_angle_r\n",
            "  Coordinate Motion Type: 1\n",
            "\n",
            "  Coordinate Name: mtp_angle_r\n",
            "  Coordinate Absolute Path: /jointset/mtp_r/mtp_angle_r\n",
            "  Coordinate Motion Type: 1\n",
            "\n",
            "  Coordinate Name: hip_flexion_l\n",
            "  Coordinate Absolute Path: /jointset/hip_l/hip_flexion_l\n",
            "  Coordinate Motion Type: 1\n",
            "\n",
            "  Coordinate Name: hip_adduction_l\n",
            "  Coordinate Absolute Path: /jointset/hip_l/hip_adduction_l\n",
            "  Coordinate Motion Type: 1\n",
            "\n",
            "  Coordinate Name: hip_rotation_l\n",
            "  Coordinate Absolute Path: /jointset/hip_l/hip_rotation_l\n",
            "  Coordinate Motion Type: 1\n",
            "\n",
            "  Coordinate Name: knee_angle_l\n",
            "  Coordinate Absolute Path: /jointset/knee_l/knee_angle_l\n",
            "  Coordinate Motion Type: 1\n",
            "\n",
            "  Coordinate Name: ankle_angle_l\n",
            "  Coordinate Absolute Path: /jointset/ankle_l/ankle_angle_l\n",
            "  Coordinate Motion Type: 1\n",
            "\n",
            "  Coordinate Name: subtalar_angle_l\n",
            "  Coordinate Absolute Path: /jointset/subtalar_l/subtalar_angle_l\n",
            "  Coordinate Motion Type: 1\n",
            "\n",
            "  Coordinate Name: mtp_angle_l\n",
            "  Coordinate Absolute Path: /jointset/mtp_l/mtp_angle_l\n",
            "  Coordinate Motion Type: 1\n",
            "\n",
            "  Coordinate Name: lumbar_extension\n",
            "  Coordinate Absolute Path: /jointset/back/lumbar_extension\n",
            "  Coordinate Motion Type: 1\n",
            "\n",
            "  Coordinate Name: lumbar_bending\n",
            "  Coordinate Absolute Path: /jointset/back/lumbar_bending\n",
            "  Coordinate Motion Type: 1\n",
            "\n",
            "  Coordinate Name: lumbar_rotation\n",
            "  Coordinate Absolute Path: /jointset/back/lumbar_rotation\n",
            "  Coordinate Motion Type: 1\n",
            "\n"
          ]
        }
      ]
    },
    {
      "cell_type": "markdown",
      "source": [
        "Let's explore some of the model's joint properties."
      ],
      "metadata": {
        "id": "v_xgSNv9Yz2m"
      }
    },
    {
      "cell_type": "code",
      "source": [
        "# Print number of joints.\n",
        "print(\"Num Joints:\", gait2392.getNumJoints())\n",
        "print()\n",
        "\n",
        "# For each joint, print some information like its name or components.\n",
        "for joint in gait2392.getJointSet():\n",
        "  print(\"Joint Name:\", joint.getName())\n",
        "  print(\"Joint Absolute Path:\", joint.getAbsolutePathString())\n",
        "  print(\"Components:\")\n",
        "  for component in joint.getComponentsList():\n",
        "    print(\"  Component Name:\", component.getName())\n",
        "    print(\"  Component Absolute Path:\", component.getAbsolutePathString())\n",
        "  print()"
      ],
      "metadata": {
        "colab": {
          "base_uri": "https://localhost:8080/"
        },
        "id": "2laouerdY59s",
        "outputId": "626aba35-28e7-4780-888f-d72f2b24b40a"
      },
      "execution_count": null,
      "outputs": [
        {
          "output_type": "stream",
          "name": "stdout",
          "text": [
            "Num Joints: 12\n",
            "\n",
            "Joint Name: ground_pelvis\n",
            "Joint Absolute Path: /jointset/ground_pelvis\n",
            "Components:\n",
            "  Component Name: pelvis_tilt\n",
            "  Component Absolute Path: /jointset/ground_pelvis/pelvis_tilt\n",
            "  Component Name: pelvis_list\n",
            "  Component Absolute Path: /jointset/ground_pelvis/pelvis_list\n",
            "  Component Name: pelvis_rotation\n",
            "  Component Absolute Path: /jointset/ground_pelvis/pelvis_rotation\n",
            "  Component Name: pelvis_tx\n",
            "  Component Absolute Path: /jointset/ground_pelvis/pelvis_tx\n",
            "  Component Name: pelvis_ty\n",
            "  Component Absolute Path: /jointset/ground_pelvis/pelvis_ty\n",
            "  Component Name: pelvis_tz\n",
            "  Component Absolute Path: /jointset/ground_pelvis/pelvis_tz\n",
            "  Component Name: ground_offset\n",
            "  Component Absolute Path: /jointset/ground_pelvis/ground_offset\n",
            "  Component Name: frame_geometry\n",
            "  Component Absolute Path: /jointset/ground_pelvis/ground_offset/frame_geometry\n",
            "  Component Name: wrapobjectset\n",
            "  Component Absolute Path: /jointset/ground_pelvis/ground_offset/wrapobjectset\n",
            "  Component Name: pelvis_offset\n",
            "  Component Absolute Path: /jointset/ground_pelvis/pelvis_offset\n",
            "  Component Name: frame_geometry\n",
            "  Component Absolute Path: /jointset/ground_pelvis/pelvis_offset/frame_geometry\n",
            "  Component Name: wrapobjectset\n",
            "  Component Absolute Path: /jointset/ground_pelvis/pelvis_offset/wrapobjectset\n",
            "\n",
            "Joint Name: hip_r\n",
            "Joint Absolute Path: /jointset/hip_r\n",
            "Components:\n",
            "  Component Name: hip_flexion_r\n",
            "  Component Absolute Path: /jointset/hip_r/hip_flexion_r\n",
            "  Component Name: hip_adduction_r\n",
            "  Component Absolute Path: /jointset/hip_r/hip_adduction_r\n",
            "  Component Name: hip_rotation_r\n",
            "  Component Absolute Path: /jointset/hip_r/hip_rotation_r\n",
            "  Component Name: pelvis_offset\n",
            "  Component Absolute Path: /jointset/hip_r/pelvis_offset\n",
            "  Component Name: frame_geometry\n",
            "  Component Absolute Path: /jointset/hip_r/pelvis_offset/frame_geometry\n",
            "  Component Name: wrapobjectset\n",
            "  Component Absolute Path: /jointset/hip_r/pelvis_offset/wrapobjectset\n",
            "  Component Name: femur_r_offset\n",
            "  Component Absolute Path: /jointset/hip_r/femur_r_offset\n",
            "  Component Name: frame_geometry\n",
            "  Component Absolute Path: /jointset/hip_r/femur_r_offset/frame_geometry\n",
            "  Component Name: wrapobjectset\n",
            "  Component Absolute Path: /jointset/hip_r/femur_r_offset/wrapobjectset\n",
            "\n",
            "Joint Name: knee_r\n",
            "Joint Absolute Path: /jointset/knee_r\n",
            "Components:\n",
            "  Component Name: knee_angle_r\n",
            "  Component Absolute Path: /jointset/knee_r/knee_angle_r\n",
            "  Component Name: femur_r_offset\n",
            "  Component Absolute Path: /jointset/knee_r/femur_r_offset\n",
            "  Component Name: frame_geometry\n",
            "  Component Absolute Path: /jointset/knee_r/femur_r_offset/frame_geometry\n",
            "  Component Name: wrapobjectset\n",
            "  Component Absolute Path: /jointset/knee_r/femur_r_offset/wrapobjectset\n",
            "  Component Name: tibia_r_offset\n",
            "  Component Absolute Path: /jointset/knee_r/tibia_r_offset\n",
            "  Component Name: frame_geometry\n",
            "  Component Absolute Path: /jointset/knee_r/tibia_r_offset/frame_geometry\n",
            "  Component Name: wrapobjectset\n",
            "  Component Absolute Path: /jointset/knee_r/tibia_r_offset/wrapobjectset\n",
            "\n",
            "Joint Name: ankle_r\n",
            "Joint Absolute Path: /jointset/ankle_r\n",
            "Components:\n",
            "  Component Name: ankle_angle_r\n",
            "  Component Absolute Path: /jointset/ankle_r/ankle_angle_r\n",
            "  Component Name: tibia_r_offset\n",
            "  Component Absolute Path: /jointset/ankle_r/tibia_r_offset\n",
            "  Component Name: frame_geometry\n",
            "  Component Absolute Path: /jointset/ankle_r/tibia_r_offset/frame_geometry\n",
            "  Component Name: wrapobjectset\n",
            "  Component Absolute Path: /jointset/ankle_r/tibia_r_offset/wrapobjectset\n",
            "  Component Name: talus_r_offset\n",
            "  Component Absolute Path: /jointset/ankle_r/talus_r_offset\n",
            "  Component Name: frame_geometry\n",
            "  Component Absolute Path: /jointset/ankle_r/talus_r_offset/frame_geometry\n",
            "  Component Name: wrapobjectset\n",
            "  Component Absolute Path: /jointset/ankle_r/talus_r_offset/wrapobjectset\n",
            "\n",
            "Joint Name: subtalar_r\n",
            "Joint Absolute Path: /jointset/subtalar_r\n",
            "Components:\n",
            "  Component Name: subtalar_angle_r\n",
            "  Component Absolute Path: /jointset/subtalar_r/subtalar_angle_r\n",
            "  Component Name: talus_r_offset\n",
            "  Component Absolute Path: /jointset/subtalar_r/talus_r_offset\n",
            "  Component Name: frame_geometry\n",
            "  Component Absolute Path: /jointset/subtalar_r/talus_r_offset/frame_geometry\n",
            "  Component Name: wrapobjectset\n",
            "  Component Absolute Path: /jointset/subtalar_r/talus_r_offset/wrapobjectset\n",
            "  Component Name: calcn_r_offset\n",
            "  Component Absolute Path: /jointset/subtalar_r/calcn_r_offset\n",
            "  Component Name: frame_geometry\n",
            "  Component Absolute Path: /jointset/subtalar_r/calcn_r_offset/frame_geometry\n",
            "  Component Name: wrapobjectset\n",
            "  Component Absolute Path: /jointset/subtalar_r/calcn_r_offset/wrapobjectset\n",
            "\n",
            "Joint Name: mtp_r\n",
            "Joint Absolute Path: /jointset/mtp_r\n",
            "Components:\n",
            "  Component Name: mtp_angle_r\n",
            "  Component Absolute Path: /jointset/mtp_r/mtp_angle_r\n",
            "  Component Name: calcn_r_offset\n",
            "  Component Absolute Path: /jointset/mtp_r/calcn_r_offset\n",
            "  Component Name: frame_geometry\n",
            "  Component Absolute Path: /jointset/mtp_r/calcn_r_offset/frame_geometry\n",
            "  Component Name: wrapobjectset\n",
            "  Component Absolute Path: /jointset/mtp_r/calcn_r_offset/wrapobjectset\n",
            "  Component Name: toes_r_offset\n",
            "  Component Absolute Path: /jointset/mtp_r/toes_r_offset\n",
            "  Component Name: frame_geometry\n",
            "  Component Absolute Path: /jointset/mtp_r/toes_r_offset/frame_geometry\n",
            "  Component Name: wrapobjectset\n",
            "  Component Absolute Path: /jointset/mtp_r/toes_r_offset/wrapobjectset\n",
            "\n",
            "Joint Name: hip_l\n",
            "Joint Absolute Path: /jointset/hip_l\n",
            "Components:\n",
            "  Component Name: hip_flexion_l\n",
            "  Component Absolute Path: /jointset/hip_l/hip_flexion_l\n",
            "  Component Name: hip_adduction_l\n",
            "  Component Absolute Path: /jointset/hip_l/hip_adduction_l\n",
            "  Component Name: hip_rotation_l\n",
            "  Component Absolute Path: /jointset/hip_l/hip_rotation_l\n",
            "  Component Name: pelvis_offset\n",
            "  Component Absolute Path: /jointset/hip_l/pelvis_offset\n",
            "  Component Name: frame_geometry\n",
            "  Component Absolute Path: /jointset/hip_l/pelvis_offset/frame_geometry\n",
            "  Component Name: wrapobjectset\n",
            "  Component Absolute Path: /jointset/hip_l/pelvis_offset/wrapobjectset\n",
            "  Component Name: femur_l_offset\n",
            "  Component Absolute Path: /jointset/hip_l/femur_l_offset\n",
            "  Component Name: frame_geometry\n",
            "  Component Absolute Path: /jointset/hip_l/femur_l_offset/frame_geometry\n",
            "  Component Name: wrapobjectset\n",
            "  Component Absolute Path: /jointset/hip_l/femur_l_offset/wrapobjectset\n",
            "\n",
            "Joint Name: knee_l\n",
            "Joint Absolute Path: /jointset/knee_l\n",
            "Components:\n",
            "  Component Name: knee_angle_l\n",
            "  Component Absolute Path: /jointset/knee_l/knee_angle_l\n",
            "  Component Name: femur_l_offset\n",
            "  Component Absolute Path: /jointset/knee_l/femur_l_offset\n",
            "  Component Name: frame_geometry\n",
            "  Component Absolute Path: /jointset/knee_l/femur_l_offset/frame_geometry\n",
            "  Component Name: wrapobjectset\n",
            "  Component Absolute Path: /jointset/knee_l/femur_l_offset/wrapobjectset\n",
            "  Component Name: tibia_l_offset\n",
            "  Component Absolute Path: /jointset/knee_l/tibia_l_offset\n",
            "  Component Name: frame_geometry\n",
            "  Component Absolute Path: /jointset/knee_l/tibia_l_offset/frame_geometry\n",
            "  Component Name: wrapobjectset\n",
            "  Component Absolute Path: /jointset/knee_l/tibia_l_offset/wrapobjectset\n",
            "\n",
            "Joint Name: ankle_l\n",
            "Joint Absolute Path: /jointset/ankle_l\n",
            "Components:\n",
            "  Component Name: ankle_angle_l\n",
            "  Component Absolute Path: /jointset/ankle_l/ankle_angle_l\n",
            "  Component Name: tibia_l_offset\n",
            "  Component Absolute Path: /jointset/ankle_l/tibia_l_offset\n",
            "  Component Name: frame_geometry\n",
            "  Component Absolute Path: /jointset/ankle_l/tibia_l_offset/frame_geometry\n",
            "  Component Name: wrapobjectset\n",
            "  Component Absolute Path: /jointset/ankle_l/tibia_l_offset/wrapobjectset\n",
            "  Component Name: talus_l_offset\n",
            "  Component Absolute Path: /jointset/ankle_l/talus_l_offset\n",
            "  Component Name: frame_geometry\n",
            "  Component Absolute Path: /jointset/ankle_l/talus_l_offset/frame_geometry\n",
            "  Component Name: wrapobjectset\n",
            "  Component Absolute Path: /jointset/ankle_l/talus_l_offset/wrapobjectset\n",
            "\n",
            "Joint Name: subtalar_l\n",
            "Joint Absolute Path: /jointset/subtalar_l\n",
            "Components:\n",
            "  Component Name: subtalar_angle_l\n",
            "  Component Absolute Path: /jointset/subtalar_l/subtalar_angle_l\n",
            "  Component Name: talus_l_offset\n",
            "  Component Absolute Path: /jointset/subtalar_l/talus_l_offset\n",
            "  Component Name: frame_geometry\n",
            "  Component Absolute Path: /jointset/subtalar_l/talus_l_offset/frame_geometry\n",
            "  Component Name: wrapobjectset\n",
            "  Component Absolute Path: /jointset/subtalar_l/talus_l_offset/wrapobjectset\n",
            "  Component Name: calcn_l_offset\n",
            "  Component Absolute Path: /jointset/subtalar_l/calcn_l_offset\n",
            "  Component Name: frame_geometry\n",
            "  Component Absolute Path: /jointset/subtalar_l/calcn_l_offset/frame_geometry\n",
            "  Component Name: wrapobjectset\n",
            "  Component Absolute Path: /jointset/subtalar_l/calcn_l_offset/wrapobjectset\n",
            "\n",
            "Joint Name: mtp_l\n",
            "Joint Absolute Path: /jointset/mtp_l\n",
            "Components:\n",
            "  Component Name: mtp_angle_l\n",
            "  Component Absolute Path: /jointset/mtp_l/mtp_angle_l\n",
            "  Component Name: calcn_l_offset\n",
            "  Component Absolute Path: /jointset/mtp_l/calcn_l_offset\n",
            "  Component Name: frame_geometry\n",
            "  Component Absolute Path: /jointset/mtp_l/calcn_l_offset/frame_geometry\n",
            "  Component Name: wrapobjectset\n",
            "  Component Absolute Path: /jointset/mtp_l/calcn_l_offset/wrapobjectset\n",
            "  Component Name: toes_l_offset\n",
            "  Component Absolute Path: /jointset/mtp_l/toes_l_offset\n",
            "  Component Name: frame_geometry\n",
            "  Component Absolute Path: /jointset/mtp_l/toes_l_offset/frame_geometry\n",
            "  Component Name: wrapobjectset\n",
            "  Component Absolute Path: /jointset/mtp_l/toes_l_offset/wrapobjectset\n",
            "\n",
            "Joint Name: back\n",
            "Joint Absolute Path: /jointset/back\n",
            "Components:\n",
            "  Component Name: lumbar_extension\n",
            "  Component Absolute Path: /jointset/back/lumbar_extension\n",
            "  Component Name: lumbar_bending\n",
            "  Component Absolute Path: /jointset/back/lumbar_bending\n",
            "  Component Name: lumbar_rotation\n",
            "  Component Absolute Path: /jointset/back/lumbar_rotation\n",
            "  Component Name: pelvis_offset\n",
            "  Component Absolute Path: /jointset/back/pelvis_offset\n",
            "  Component Name: frame_geometry\n",
            "  Component Absolute Path: /jointset/back/pelvis_offset/frame_geometry\n",
            "  Component Name: wrapobjectset\n",
            "  Component Absolute Path: /jointset/back/pelvis_offset/wrapobjectset\n",
            "  Component Name: torso_offset\n",
            "  Component Absolute Path: /jointset/back/torso_offset\n",
            "  Component Name: frame_geometry\n",
            "  Component Absolute Path: /jointset/back/torso_offset/frame_geometry\n",
            "  Component Name: wrapobjectset\n",
            "  Component Absolute Path: /jointset/back/torso_offset/wrapobjectset\n",
            "\n"
          ]
        }
      ]
    },
    {
      "cell_type": "markdown",
      "source": [
        "And finally, let's explore the muscles in the model. We know the model has 93 muscles from the name of the model file.\n",
        "\n"
      ],
      "metadata": {
        "id": "30rBKV7S3hzt"
      }
    },
    {
      "cell_type": "code",
      "source": [
        "# TODO Is there any easier way of extracting the number of muscles?\n",
        "# Print number of muscles.\n",
        "num_muscles = 0\n",
        "for muscle in gait2392.getMuscles():\n",
        "  num_muscles = num_muscles + 1\n",
        "print(\"Num Muscles:\", num_muscles)\n",
        "print()\n",
        "\n",
        "for muscle in gait2392.getMuscles():\n",
        "  print(\"Muscle Name:\", muscle.getName())\n",
        "  print(\"Muscle Absolute Path:\", muscle.getAbsolutePathString())\n",
        "  print()"
      ],
      "metadata": {
        "id": "Etbh4aon3hzt",
        "colab": {
          "base_uri": "https://localhost:8080/"
        },
        "outputId": "d7bf8d74-e5bb-47b0-fd73-cd49fa6ce4c6"
      },
      "execution_count": null,
      "outputs": [
        {
          "output_type": "stream",
          "name": "stdout",
          "text": [
            "Num Muscles: 92\n",
            "\n",
            "Muscle Name: glut_med1_r\n",
            "Muscle Absolute Path: /forceset/glut_med1_r\n",
            "\n",
            "Muscle Name: glut_med2_r\n",
            "Muscle Absolute Path: /forceset/glut_med2_r\n",
            "\n",
            "Muscle Name: glut_med3_r\n",
            "Muscle Absolute Path: /forceset/glut_med3_r\n",
            "\n",
            "Muscle Name: glut_min1_r\n",
            "Muscle Absolute Path: /forceset/glut_min1_r\n",
            "\n",
            "Muscle Name: glut_min2_r\n",
            "Muscle Absolute Path: /forceset/glut_min2_r\n",
            "\n",
            "Muscle Name: glut_min3_r\n",
            "Muscle Absolute Path: /forceset/glut_min3_r\n",
            "\n",
            "Muscle Name: semimem_r\n",
            "Muscle Absolute Path: /forceset/semimem_r\n",
            "\n",
            "Muscle Name: semiten_r\n",
            "Muscle Absolute Path: /forceset/semiten_r\n",
            "\n",
            "Muscle Name: bifemlh_r\n",
            "Muscle Absolute Path: /forceset/bifemlh_r\n",
            "\n",
            "Muscle Name: bifemsh_r\n",
            "Muscle Absolute Path: /forceset/bifemsh_r\n",
            "\n",
            "Muscle Name: sar_r\n",
            "Muscle Absolute Path: /forceset/sar_r\n",
            "\n",
            "Muscle Name: add_long_r\n",
            "Muscle Absolute Path: /forceset/add_long_r\n",
            "\n",
            "Muscle Name: add_brev_r\n",
            "Muscle Absolute Path: /forceset/add_brev_r\n",
            "\n",
            "Muscle Name: add_mag1_r\n",
            "Muscle Absolute Path: /forceset/add_mag1_r\n",
            "\n",
            "Muscle Name: add_mag2_r\n",
            "Muscle Absolute Path: /forceset/add_mag2_r\n",
            "\n",
            "Muscle Name: add_mag3_r\n",
            "Muscle Absolute Path: /forceset/add_mag3_r\n",
            "\n",
            "Muscle Name: tfl_r\n",
            "Muscle Absolute Path: /forceset/tfl_r\n",
            "\n",
            "Muscle Name: pect_r\n",
            "Muscle Absolute Path: /forceset/pect_r\n",
            "\n",
            "Muscle Name: grac_r\n",
            "Muscle Absolute Path: /forceset/grac_r\n",
            "\n",
            "Muscle Name: glut_max1_r\n",
            "Muscle Absolute Path: /forceset/glut_max1_r\n",
            "\n",
            "Muscle Name: glut_max2_r\n",
            "Muscle Absolute Path: /forceset/glut_max2_r\n",
            "\n",
            "Muscle Name: glut_max3_r\n",
            "Muscle Absolute Path: /forceset/glut_max3_r\n",
            "\n",
            "Muscle Name: iliacus_r\n",
            "Muscle Absolute Path: /forceset/iliacus_r\n",
            "\n",
            "Muscle Name: psoas_r\n",
            "Muscle Absolute Path: /forceset/psoas_r\n",
            "\n",
            "Muscle Name: quad_fem_r\n",
            "Muscle Absolute Path: /forceset/quad_fem_r\n",
            "\n",
            "Muscle Name: gem_r\n",
            "Muscle Absolute Path: /forceset/gem_r\n",
            "\n",
            "Muscle Name: peri_r\n",
            "Muscle Absolute Path: /forceset/peri_r\n",
            "\n",
            "Muscle Name: rect_fem_r\n",
            "Muscle Absolute Path: /forceset/rect_fem_r\n",
            "\n",
            "Muscle Name: vas_med_r\n",
            "Muscle Absolute Path: /forceset/vas_med_r\n",
            "\n",
            "Muscle Name: vas_int_r\n",
            "Muscle Absolute Path: /forceset/vas_int_r\n",
            "\n",
            "Muscle Name: vas_lat_r\n",
            "Muscle Absolute Path: /forceset/vas_lat_r\n",
            "\n",
            "Muscle Name: med_gas_r\n",
            "Muscle Absolute Path: /forceset/med_gas_r\n",
            "\n",
            "Muscle Name: lat_gas_r\n",
            "Muscle Absolute Path: /forceset/lat_gas_r\n",
            "\n",
            "Muscle Name: soleus_r\n",
            "Muscle Absolute Path: /forceset/soleus_r\n",
            "\n",
            "Muscle Name: tib_post_r\n",
            "Muscle Absolute Path: /forceset/tib_post_r\n",
            "\n",
            "Muscle Name: flex_dig_r\n",
            "Muscle Absolute Path: /forceset/flex_dig_r\n",
            "\n",
            "Muscle Name: flex_hal_r\n",
            "Muscle Absolute Path: /forceset/flex_hal_r\n",
            "\n",
            "Muscle Name: tib_ant_r\n",
            "Muscle Absolute Path: /forceset/tib_ant_r\n",
            "\n",
            "Muscle Name: per_brev_r\n",
            "Muscle Absolute Path: /forceset/per_brev_r\n",
            "\n",
            "Muscle Name: per_long_r\n",
            "Muscle Absolute Path: /forceset/per_long_r\n",
            "\n",
            "Muscle Name: per_tert_r\n",
            "Muscle Absolute Path: /forceset/per_tert_r\n",
            "\n",
            "Muscle Name: ext_dig_r\n",
            "Muscle Absolute Path: /forceset/ext_dig_r\n",
            "\n",
            "Muscle Name: ext_hal_r\n",
            "Muscle Absolute Path: /forceset/ext_hal_r\n",
            "\n",
            "Muscle Name: glut_med1_l\n",
            "Muscle Absolute Path: /forceset/glut_med1_l\n",
            "\n",
            "Muscle Name: glut_med2_l\n",
            "Muscle Absolute Path: /forceset/glut_med2_l\n",
            "\n",
            "Muscle Name: glut_med3_l\n",
            "Muscle Absolute Path: /forceset/glut_med3_l\n",
            "\n",
            "Muscle Name: glut_min1_l\n",
            "Muscle Absolute Path: /forceset/glut_min1_l\n",
            "\n",
            "Muscle Name: glut_min2_l\n",
            "Muscle Absolute Path: /forceset/glut_min2_l\n",
            "\n",
            "Muscle Name: glut_min3_l\n",
            "Muscle Absolute Path: /forceset/glut_min3_l\n",
            "\n",
            "Muscle Name: semimem_l\n",
            "Muscle Absolute Path: /forceset/semimem_l\n",
            "\n",
            "Muscle Name: semiten_l\n",
            "Muscle Absolute Path: /forceset/semiten_l\n",
            "\n",
            "Muscle Name: bifemlh_l\n",
            "Muscle Absolute Path: /forceset/bifemlh_l\n",
            "\n",
            "Muscle Name: bifemsh_l\n",
            "Muscle Absolute Path: /forceset/bifemsh_l\n",
            "\n",
            "Muscle Name: sar_l\n",
            "Muscle Absolute Path: /forceset/sar_l\n",
            "\n",
            "Muscle Name: add_long_l\n",
            "Muscle Absolute Path: /forceset/add_long_l\n",
            "\n",
            "Muscle Name: add_brev_l\n",
            "Muscle Absolute Path: /forceset/add_brev_l\n",
            "\n",
            "Muscle Name: add_mag1_l\n",
            "Muscle Absolute Path: /forceset/add_mag1_l\n",
            "\n",
            "Muscle Name: add_mag2_l\n",
            "Muscle Absolute Path: /forceset/add_mag2_l\n",
            "\n",
            "Muscle Name: add_mag3_l\n",
            "Muscle Absolute Path: /forceset/add_mag3_l\n",
            "\n",
            "Muscle Name: tfl_l\n",
            "Muscle Absolute Path: /forceset/tfl_l\n",
            "\n",
            "Muscle Name: pect_l\n",
            "Muscle Absolute Path: /forceset/pect_l\n",
            "\n",
            "Muscle Name: grac_l\n",
            "Muscle Absolute Path: /forceset/grac_l\n",
            "\n",
            "Muscle Name: glut_max1_l\n",
            "Muscle Absolute Path: /forceset/glut_max1_l\n",
            "\n",
            "Muscle Name: glut_max2_l\n",
            "Muscle Absolute Path: /forceset/glut_max2_l\n",
            "\n",
            "Muscle Name: glut_max3_l\n",
            "Muscle Absolute Path: /forceset/glut_max3_l\n",
            "\n",
            "Muscle Name: iliacus_l\n",
            "Muscle Absolute Path: /forceset/iliacus_l\n",
            "\n",
            "Muscle Name: psoas_l\n",
            "Muscle Absolute Path: /forceset/psoas_l\n",
            "\n",
            "Muscle Name: quad_fem_l\n",
            "Muscle Absolute Path: /forceset/quad_fem_l\n",
            "\n",
            "Muscle Name: gem_l\n",
            "Muscle Absolute Path: /forceset/gem_l\n",
            "\n",
            "Muscle Name: peri_l\n",
            "Muscle Absolute Path: /forceset/peri_l\n",
            "\n",
            "Muscle Name: rect_fem_l\n",
            "Muscle Absolute Path: /forceset/rect_fem_l\n",
            "\n",
            "Muscle Name: vas_med_l\n",
            "Muscle Absolute Path: /forceset/vas_med_l\n",
            "\n",
            "Muscle Name: vas_int_l\n",
            "Muscle Absolute Path: /forceset/vas_int_l\n",
            "\n",
            "Muscle Name: vas_lat_l\n",
            "Muscle Absolute Path: /forceset/vas_lat_l\n",
            "\n",
            "Muscle Name: med_gas_l\n",
            "Muscle Absolute Path: /forceset/med_gas_l\n",
            "\n",
            "Muscle Name: lat_gas_l\n",
            "Muscle Absolute Path: /forceset/lat_gas_l\n",
            "\n",
            "Muscle Name: soleus_l\n",
            "Muscle Absolute Path: /forceset/soleus_l\n",
            "\n",
            "Muscle Name: tib_post_l\n",
            "Muscle Absolute Path: /forceset/tib_post_l\n",
            "\n",
            "Muscle Name: flex_dig_l\n",
            "Muscle Absolute Path: /forceset/flex_dig_l\n",
            "\n",
            "Muscle Name: flex_hal_l\n",
            "Muscle Absolute Path: /forceset/flex_hal_l\n",
            "\n",
            "Muscle Name: tib_ant_l\n",
            "Muscle Absolute Path: /forceset/tib_ant_l\n",
            "\n",
            "Muscle Name: per_brev_l\n",
            "Muscle Absolute Path: /forceset/per_brev_l\n",
            "\n",
            "Muscle Name: per_long_l\n",
            "Muscle Absolute Path: /forceset/per_long_l\n",
            "\n",
            "Muscle Name: per_tert_l\n",
            "Muscle Absolute Path: /forceset/per_tert_l\n",
            "\n",
            "Muscle Name: ext_dig_l\n",
            "Muscle Absolute Path: /forceset/ext_dig_l\n",
            "\n",
            "Muscle Name: ext_hal_l\n",
            "Muscle Absolute Path: /forceset/ext_hal_l\n",
            "\n",
            "Muscle Name: ercspn_r\n",
            "Muscle Absolute Path: /forceset/ercspn_r\n",
            "\n",
            "Muscle Name: ercspn_l\n",
            "Muscle Absolute Path: /forceset/ercspn_l\n",
            "\n",
            "Muscle Name: intobl_r\n",
            "Muscle Absolute Path: /forceset/intobl_r\n",
            "\n",
            "Muscle Name: intobl_l\n",
            "Muscle Absolute Path: /forceset/intobl_l\n",
            "\n",
            "Muscle Name: extobl_r\n",
            "Muscle Absolute Path: /forceset/extobl_r\n",
            "\n",
            "Muscle Name: extobl_l\n",
            "Muscle Absolute Path: /forceset/extobl_l\n",
            "\n"
          ]
        }
      ]
    },
    {
      "cell_type": "markdown",
      "source": [
        "## 4.4. Working with motion files"
      ],
      "metadata": {
        "id": "D7_wfvV55skF"
      }
    },
    {
      "cell_type": "markdown",
      "source": [
        "In this section you will load information from a motion file. But first, you have to download it using the same method as in the previous section. Since the motion file already contains the values resulting from a simulation, you will not need to simulate the model to access to this information."
      ],
      "metadata": {
        "id": "FqIgcdg43Qe7"
      }
    },
    {
      "cell_type": "markdown",
      "source": [
        "First, let's download the motion file from the GitHub repository."
      ],
      "metadata": {
        "id": "55eetMYEn8iK"
      }
    },
    {
      "cell_type": "code",
      "source": [
        "import requests\n",
        "\n",
        "# TODO Host tutorial models elsewhere?\n",
        "# Download the motion file from the GitHub repository.\n",
        "url = 'https://raw.githubusercontent.com/opensim-org/opensim-models/master/Tutorials/Intro_to_Musculoskeletal_Modeling/normal.mot'\n",
        "req = requests.get(url, allow_redirects=True)\n",
        "open('normal_gait.mot', 'wb').write(req.content)"
      ],
      "metadata": {
        "colab": {
          "base_uri": "https://localhost:8080/"
        },
        "id": "043NAXdEnuwF",
        "outputId": "55111c49-6ac0-4e05-be7a-db66c99c00e5"
      },
      "execution_count": null,
      "outputs": [
        {
          "output_type": "execute_result",
          "data": {
            "text/plain": [
              "5971"
            ]
          },
          "metadata": {},
          "execution_count": 17
        }
      ]
    },
    {
      "cell_type": "markdown",
      "source": [
        "Use TableProcessor to load and process the file. Print column labels to check the file has been processed properly."
      ],
      "metadata": {
        "id": "kFQ-3EmOn-zc"
      }
    },
    {
      "cell_type": "code",
      "source": [
        "# Use the TableProcessor to read the motion file.\n",
        "table = osim.TableProcessor('normal_gait.mot')\n",
        "# Process the file.\n",
        "tableTime = table.process()\n",
        "# Print labels for each column.\n",
        "print(tableTime.getColumnLabels())"
      ],
      "metadata": {
        "colab": {
          "base_uri": "https://localhost:8080/"
        },
        "id": "CWy88RN8hIMg",
        "outputId": "21ca38a1-8390-4f25-f296-1ee45ab252c3"
      },
      "execution_count": null,
      "outputs": [
        {
          "output_type": "stream",
          "name": "stdout",
          "text": [
            "('pelvis_list', 'pelvis_rotation', 'pelvis_tilt', 'hip_flexion_r', 'hip_adduction_r', 'hip_rotation_r', 'knee_angle_r', 'ankle_angle_r', 'hip_flexion_l', 'hip_adduction_l', 'hip_rotation_l', 'knee_angle_l', 'ankle_angle_l', 'pelvis_ty', 'lumbar_bending', 'lumbar_rotation', 'lumbar_extension')\n"
          ]
        }
      ]
    },
    {
      "cell_type": "markdown",
      "source": [
        "We will plot, for example, the knee angle and hip adduction between both legs. In the next cell you will extract this information from the motion file."
      ],
      "metadata": {
        "id": "1OrWnq7ZoEyV"
      }
    },
    {
      "cell_type": "code",
      "source": [
        "# Get columns we want to represent, and the independent column (Time).\n",
        "y_knee_angle_r = tableTime.getDependentColumn('knee_angle_r')\n",
        "y_knee_angle_l = tableTime.getDependentColumn('knee_angle_l')\n",
        "y_hip_adduction_r = tableTime.getDependentColumn('hip_adduction_r')\n",
        "y_hip_adduction_l = tableTime.getDependentColumn('hip_adduction_l')\n",
        "x_time = tableTime.getIndependentColumn()"
      ],
      "metadata": {
        "id": "Cl6bsTwxoHfj"
      },
      "execution_count": null,
      "outputs": []
    },
    {
      "cell_type": "markdown",
      "source": [
        "Now, you can use Seaborn to plot the information."
      ],
      "metadata": {
        "id": "92S8pO4mdUc0"
      }
    },
    {
      "cell_type": "code",
      "source": [
        "import seaborn as sns\n",
        "import matplotlib.pyplot as plt\n",
        "import numpy as np\n",
        "\n",
        "fig, axes = plt.subplots(2, 1, figsize=(10, 10))\n",
        "\n",
        "fig.suptitle('Normal Gait')\n",
        "\n",
        "# Knee angle to chart 1.\n",
        "sns.lineplot(x=x_time, y=y_knee_angle_r.to_numpy(), ax=axes[0], label='knee_angle_r')\n",
        "sns.lineplot(x=x_time, y=y_knee_angle_l.to_numpy(), ax=axes[0], label='knee_angle_l').set(title='Knee angle')\n",
        "\n",
        "# Hip adduction to chart 2.\n",
        "sns.lineplot(x=x_time, y=y_hip_adduction_r.to_numpy(), ax=axes[1], label='hip_adduction_r')\n",
        "sns.lineplot(x=x_time, y=y_hip_adduction_l.to_numpy(), ax=axes[1], label='hip_adduction_l').set(title='Hip adduction')\n",
        "\n",
        "# Set the spacing between subplots\n",
        "plt.subplots_adjust(wspace=0.5, hspace=0.5)"
      ],
      "metadata": {
        "colab": {
          "base_uri": "https://localhost:8080/",
          "height": 663
        },
        "id": "9xs7cuuF5rrl",
        "outputId": "b3efa48c-488a-46a5-f2f9-e313633b4876"
      },
      "execution_count": null,
      "outputs": [
        {
          "output_type": "display_data",
          "data": {
            "text/plain": [
              "<Figure size 720x720 with 2 Axes>"
            ],
            "image/png": "[encoded data removed]"
          },
          "metadata": {
            "needs_background": "light"
          }
        }
      ]
    },
    {
      "cell_type": "markdown",
      "source": [
        "## 4.5. MuscleAnalysis: Assessment of Hamstrings Length During Crouch Gait"
      ],
      "metadata": {
        "id": "iwjKjz4trPYr"
      }
    },
    {
      "cell_type": "markdown",
      "source": [
        "In this final section of the tutorial, you will use OpenSim to investigate a possible cause of crouch gait, one of the most common walking abnormalities among individuals with cerebral palsy. It is characterized by excessive flexion of the knee during stance phase, which is often accompanied by exaggerated flexion and internal rotation of the hip. One hypothesized cause of crouch gait is short hamstrings, and orthopedic surgeons will sometimes lengthen the hamstrings of such patients in an attempt to improve their posture and gait. However, other causes of excessive knee flexion are possible (e.g. weak ankle plantarflexors), and lengthening the hamstrings can compromise these muscles' force-generation capabilities [[3]](https://doi.org/10.1016/j.gaitpost.2005.03.003). How can a surgeon determine whether a hamstring lengthening procedure is warranted? \n",
        "\n",
        "One possible way to judge whether a patient's hamstrings are shorter than \"normal\" is to develop a musculoskeletal model and compare the length of the hamstrings during the patient's crouch gait cycle to the length of the hamstrings during a normal gait cycle. Suppose that an orthopaedic surgeon has brought you some kinematic data for a patient who walks with a crouch gait. The surgeon is contemplating whether to operate and wants your opinion.  "
      ],
      "metadata": {
        "id": "Na1olOGW460V"
      }
    },
    {
      "cell_type": "markdown",
      "source": [
        "### 4.5.1. Part 1: Range of Motion"
      ],
      "metadata": {
        "id": "l393sw739Guj"
      }
    },
    {
      "cell_type": "markdown",
      "source": [
        "First, let's download the crouch gait motion file. We already downloaded the normal gait motion file in the previous section."
      ],
      "metadata": {
        "id": "q4v56Rx-ra29"
      }
    },
    {
      "cell_type": "code",
      "source": [
        "import requests\n",
        "\n",
        "# TODO Host tutorial models elsewhere?\n",
        "# Download the motion file from the GitHub repository.\n",
        "url = 'https://raw.githubusercontent.com/opensim-org/opensim-models/master/Tutorials/Intro_to_Musculoskeletal_Modeling/crouch1.mot'\n",
        "req = requests.get(url, allow_redirects=True)\n",
        "open('crouch_gait.mot', 'wb').write(req.content)"
      ],
      "metadata": {
        "colab": {
          "base_uri": "https://localhost:8080/"
        },
        "outputId": "6609e8e3-164b-434d-faae-5a39f16904d0",
        "id": "eImo6cg4ra2-"
      },
      "execution_count": null,
      "outputs": [
        {
          "output_type": "execute_result",
          "data": {
            "text/plain": [
              "14112"
            ]
          },
          "metadata": {},
          "execution_count": 24
        }
      ]
    },
    {
      "cell_type": "markdown",
      "source": [
        "Use TableProcessor to load and process the motion file. Print column labels to check the files have been processed properly."
      ],
      "metadata": {
        "id": "1w4Y6NwRra2_"
      }
    },
    {
      "cell_type": "code",
      "source": [
        "# Use the TableProcessor to read the motion file.\n",
        "table_processor_normal_gait = osim.TableProcessor('normal_gait.mot')\n",
        "# Process the file.\n",
        "table_normal_gait = table_processor_normal_gait.process()\n",
        "# Print labels for each column.\n",
        "print(table_normal_gait.getColumnLabels())\n",
        "\n",
        "# Use the TableProcessor to read the motion file.\n",
        "table_processor_crouch_gait = osim.TableProcessor('crouch_gait.mot')\n",
        "# Process the file.\n",
        "table_crouch_gait = table_processor_crouch_gait.process()\n",
        "# Print labels for each column.\n",
        "print(table_crouch_gait.getColumnLabels())"
      ],
      "metadata": {
        "colab": {
          "base_uri": "https://localhost:8080/"
        },
        "outputId": "c07458f7-ca82-4593-fcf4-5c890d12e703",
        "id": "GeZ65ePyra3A"
      },
      "execution_count": null,
      "outputs": [
        {
          "output_type": "stream",
          "name": "stdout",
          "text": [
            "('pelvis_list', 'pelvis_rotation', 'pelvis_tilt', 'hip_flexion_r', 'hip_adduction_r', 'hip_rotation_r', 'knee_angle_r', 'ankle_angle_r', 'hip_flexion_l', 'hip_adduction_l', 'hip_rotation_l', 'knee_angle_l', 'ankle_angle_l', 'pelvis_ty', 'lumbar_bending', 'lumbar_rotation', 'lumbar_extension')\n",
            "('pelvis_list', 'pelvis_rotation', 'pelvis_tilt', 'hip_flexion_r', 'hip_adduction_r', 'hip_rotation_r', 'knee_angle_r', 'ankle_angle_r', 'hip_flexion_l', 'hip_adduction_l', 'hip_rotation_l', 'knee_angle_l', 'ankle_angle_l', 'pelvis_ty', 'lumbar_bending', 'lumbar_rotation', 'lumbar_extension')\n"
          ]
        }
      ]
    },
    {
      "cell_type": "markdown",
      "source": [
        "Let's obtain the information we want to plot. This time, we obtain two independent columns, one per each table. Since both have a range from 0 to 1, we can plot them and compare them."
      ],
      "metadata": {
        "id": "lzugVUla-leG"
      }
    },
    {
      "cell_type": "code",
      "source": [
        "# Get columns we want to represent.\n",
        "normal_gait_knee_angle_r = table_normal_gait.getDependentColumn('knee_angle_r')\n",
        "crouch_gait_knee_angle_r = table_crouch_gait.getDependentColumn('knee_angle_r')\n",
        "\n",
        "# Get independent columns of each table (time).\n",
        "normal_gait_time = table_normal_gait.getIndependentColumn()\n",
        "crouch_gait_time = table_crouch_gait.getIndependentColumn()"
      ],
      "metadata": {
        "id": "38URdfs9-n-j"
      },
      "execution_count": null,
      "outputs": []
    },
    {
      "cell_type": "markdown",
      "source": [
        "Now let's plot to quantitatively compare."
      ],
      "metadata": {
        "id": "8sT3M3Ew-dwa"
      }
    },
    {
      "cell_type": "code",
      "source": [
        "import seaborn as sns\n",
        "import matplotlib.pyplot as plt\n",
        "import numpy as np\n",
        "\n",
        "fig, axes = plt.subplots(1, 1, figsize=(8, 5))\n",
        "\n",
        "fig.suptitle('Normal Gait vs. Crouch Gait - Knee Angle')\n",
        "\n",
        "sns.lineplot(x=normal_gait_time, y=normal_gait_knee_angle_r.to_numpy(), ax=axes, label='normal_gait_knee_angle_r')\n",
        "sns.lineplot(x=crouch_gait_time, y=crouch_gait_knee_angle_r.to_numpy(), ax=axes, label='crouch_gait_knee_angle_l')"
      ],
      "metadata": {
        "colab": {
          "base_uri": "https://localhost:8080/",
          "height": 373
        },
        "id": "NuOA04iR-gng",
        "outputId": "fb21b679-bff0-4011-a4dd-b5612ca3eefa"
      },
      "execution_count": null,
      "outputs": [
        {
          "output_type": "execute_result",
          "data": {
            "text/plain": [
              "<matplotlib.axes._subplots.AxesSubplot at 0x7fd51397dd90>"
            ]
          },
          "metadata": {},
          "execution_count": 27
        },
        {
          "output_type": "display_data",
          "data": {
            "text/plain": [
              "<Figure size 576x360 with 1 Axes>"
            ],
            "image/png": "[encoded data removed]"
          },
          "metadata": {
            "needs_background": "light"
          }
        }
      ]
    },
    {
      "cell_type": "markdown",
      "source": [
        "**Questions: Range of Motion**"
      ],
      "metadata": {
        "id": "HU5PSGHT5W1P"
      }
    },
    {
      "cell_type": "markdown",
      "source": [
        "\n",
        "**1.** Label the times at which heel strike and toe-off occur, and the stance and swing intervals. \n"
      ],
      "metadata": {
        "id": "CrxnVBkr5lSk"
      }
    },
    {
      "cell_type": "markdown",
      "source": [
        "\n",
        "**2.** What is the range of motion for knee flexion during stance phase for normal gait?"
      ],
      "metadata": {
        "id": "oCaTndxk5nQv"
      }
    },
    {
      "cell_type": "markdown",
      "source": [
        "\n",
        "\n",
        "**3.** How does knee flexion range of motion for crouch gait compare to that of normal gait?"
      ],
      "metadata": {
        "id": "WHJUGwtL5rKR"
      }
    },
    {
      "cell_type": "markdown",
      "source": [
        "### 4.5.2. Part 2: Hamstrings Length"
      ],
      "metadata": {
        "id": "ovoeaVcu95-J"
      }
    },
    {
      "cell_type": "markdown",
      "source": [
        "An orthopedic surgeon believes that a patient may benefit from a hamstring lengthening surgery. You are tasked to compare the hamstrings (semitendinosus) length over a patients crouch gait cycle to the hamstrings length for a \"normal\" gait cycle. This time, a Muscle Analysis must be performed to obtain the fiber lengths of the muscles."
      ],
      "metadata": {
        "id": "VfBhbJtr9E1G"
      }
    },
    {
      "cell_type": "markdown",
      "source": [
        "First, let's load the motion files to obtain the initial and ending time. In both files, the initial and ending times are the same, so we obtain the values from just one of them."
      ],
      "metadata": {
        "id": "osLz4Dbv-3PK"
      }
    },
    {
      "cell_type": "code",
      "source": [
        "# Load motion files as Storage objects.\n",
        "motion_storage_normal_gait = osim.Storage(\"normal_gait.mot\");\n",
        "motion_storage_crouch_gait = osim.Storage(\"crouch_gait.mot\");\n",
        "\n",
        "# Get first and last time.\n",
        "first_time = motion_storage_normal_gait.getFirstTime()\n",
        "last_time = motion_storage_normal_gait.getLastTime()"
      ],
      "metadata": {
        "id": "ktoXE8561QRJ"
      },
      "execution_count": null,
      "outputs": []
    },
    {
      "cell_type": "markdown",
      "source": [
        "Now, let's create a MuscleAnalysis and configure it. This analysis will be applied two times: One for the normal gait and another for the crouch gait."
      ],
      "metadata": {
        "id": "91ktx1Ag3OY_"
      }
    },
    {
      "cell_type": "code",
      "source": [
        "# Define a MuscleAnalysis.\n",
        "muscle_analysis = osim.MuscleAnalysis()\n",
        "\n",
        "# Set start and end times for the analysis.\n",
        "muscle_analysis.setStartTime(first_time)\n",
        "muscle_analysis.setEndTime(last_time)\n",
        "\n",
        "# Set muscle of interest.\n",
        "muscle_list = osim.ArrayStr()\n",
        "muscle_list.append(\"semiten_r\")\n",
        "muscle_analysis.setMuscles(muscle_list)\n",
        "\n",
        "# Configure the analysis.\n",
        "muscle_analysis.setOn(True)\n",
        "muscle_analysis.setStepInterval(1)\n",
        "muscle_analysis.setInDegrees(True)\n",
        "muscle_analysis.setComputeMoments(True)"
      ],
      "metadata": {
        "id": "dDKQQH5R3T5y"
      },
      "execution_count": null,
      "outputs": []
    },
    {
      "cell_type": "markdown",
      "source": [
        "Now, let's create an Analyze Tool that, given a model file and a motion file, performs the requested analysis. In this case, the Muscle Analysis. We have to create an Analyze Tool for the normal gait and another for the crouch gait. This may take a few seconds."
      ],
      "metadata": {
        "id": "ABbHd8br4JsA"
      }
    },
    {
      "cell_type": "code",
      "source": [
        "## Normal Gait.\n",
        "\n",
        "# Create analyze tool for normal gait.\n",
        "analyze_tool_normal_gait = osim.AnalyzeTool()\n",
        "analyze_tool_normal_gait.setName(\"Muscle_Analysis_Normal_Gait\")\n",
        "\n",
        "# Set model file and motion file paths.\n",
        "analyze_tool_normal_gait.setModelFilename(\"gait2392.osim\")\n",
        "analyze_tool_normal_gait.setCoordinatesFileName(\"normal_gait.mot\")\n",
        "\n",
        "# Add analysis to analyze tool.\n",
        "analyze_tool_normal_gait.updAnalysisSet().cloneAndAppend(muscle_analysis)\n",
        "\n",
        "# Configure analyze tool.\n",
        "analyze_tool_normal_gait.setReplaceForceSet(False)\n",
        "analyze_tool_normal_gait.setSolveForEquilibrium(True)\n",
        "analyze_tool_normal_gait.setStartTime(first_time)\n",
        "analyze_tool_normal_gait.setFinalTime(last_time)\n",
        "\n",
        "# Print configuration of analyze tool to a xml file.\n",
        "analyze_tool_normal_gait.printToXML(\"Muscle_Analysis_Normal_Gait_AnalyzeTool_setup.xml\")\n",
        "\n",
        "# Load configuration and run the analyses. \n",
        "analyze_tool_normal_gait = osim.AnalyzeTool(\"Muscle_Analysis_Normal_Gait_AnalyzeTool_setup.xml\", True)\n",
        "result_normal_gait = analyze_tool_normal_gait.run()\n",
        "\n",
        "\n",
        "## Crouch Gait.\n",
        "\n",
        "# Create analyze tool for crouch gait.\n",
        "analyze_tool_crouch_gait = osim.AnalyzeTool()\n",
        "analyze_tool_crouch_gait.setName(\"Muscle_Analysis_Crouch_Gait\")\n",
        "\n",
        "# Set model file and motion file paths.\n",
        "analyze_tool_crouch_gait.setModelFilename(\"gait2392.osim\")\n",
        "analyze_tool_crouch_gait.setCoordinatesFileName(\"crouch_gait.mot\")\n",
        "\n",
        "# Add analysis to analyze tool.\n",
        "analyze_tool_crouch_gait.updAnalysisSet().cloneAndAppend(muscle_analysis)\n",
        "\n",
        "# Configure analyze tool.\n",
        "analyze_tool_crouch_gait.setReplaceForceSet(False)\n",
        "analyze_tool_crouch_gait.setSolveForEquilibrium(True)\n",
        "analyze_tool_crouch_gait.setStartTime(first_time)\n",
        "analyze_tool_crouch_gait.setFinalTime(last_time)\n",
        "\n",
        "# Print configuration of analyze tool to a xml file.\n",
        "analyze_tool_crouch_gait.printToXML(\"Muscle_Analysis_Crouch_Gait_AnalyzeTool_setup.xml\")\n",
        "\n",
        "# Load configuration and run the analyses. \n",
        "analyze_tool_crouch_gait = osim.AnalyzeTool(\"Muscle_Analysis_Crouch_Gait_AnalyzeTool_setup.xml\", True)\n",
        "result_crouch_gait = analyze_tool_crouch_gait.run()"
      ],
      "metadata": {
        "id": "AvG1N-t64WKs"
      },
      "execution_count": null,
      "outputs": []
    },
    {
      "cell_type": "markdown",
      "source": [
        "Now that the analysis has been performed, you can extract the fiber length of the semitendinous muscle!"
      ],
      "metadata": {
        "id": "yikNNh5i5WNa"
      }
    },
    {
      "cell_type": "code",
      "source": [
        "## Normal gait\n",
        "\n",
        "# Get results from file.\n",
        "table_fiber_length_normal_gait = osim.TimeSeriesTable(\n",
        "    \"Muscle_Analysis_Normal_Gait_MuscleAnalysis_FiberLength.sto\")\n",
        "\n",
        "# Get values.\n",
        "time_normal_gait = table_fiber_length_normal_gait.getIndependentColumn()\n",
        "fiber_length_semitendinous_normal_gait = table_fiber_length_normal_gait.getDependentColumn(\"semiten_r\")\n",
        "\n",
        "\n",
        "## Crouch gait\n",
        "\n",
        "# Get results from file.\n",
        "table_fiber_length_crouch_gait = osim.TimeSeriesTable(\n",
        "    \"Muscle_Analysis_Crouch_Gait_MuscleAnalysis_FiberLength.sto\")\n",
        "\n",
        "# Get values.\n",
        "time_crouch_gait = table_fiber_length_crouch_gait.getIndependentColumn()\n",
        "fiber_length_semitendinous_crouch_gait = table_fiber_length_crouch_gait.getDependentColumn(\"semiten_r\")"
      ],
      "metadata": {
        "id": "F5UYk24r5cy7"
      },
      "execution_count": null,
      "outputs": []
    },
    {
      "cell_type": "markdown",
      "source": [
        "Let's create a plot representing the fiber length of the semitendinous muscle."
      ],
      "metadata": {
        "id": "9Sw39wFy6_lZ"
      }
    },
    {
      "cell_type": "code",
      "source": [
        "import seaborn as sns\n",
        "import matplotlib.pyplot as plt\n",
        "import numpy as np\n",
        "\n",
        "fig, axes = plt.subplots(1, 1, figsize=(8, 5))\n",
        "\n",
        "sns.lineplot(x=time_normal_gait, y=fiber_length_semitendinous_normal_gait.to_numpy(), ax=axes, label='normal_gait_semitendinous_fiber_length')\n",
        "sns.lineplot(x=time_crouch_gait, y=fiber_length_semitendinous_crouch_gait.to_numpy(), ax=axes, label='crouch_gait_semitendinous_fiber_length').set(title='Normal Gait vs. Crouch Gait')"
      ],
      "metadata": {
        "id": "2bTVpl2y-3PQ",
        "colab": {
          "base_uri": "https://localhost:8080/",
          "height": 353
        },
        "outputId": "fd0a89f5-d337-4f97-f0a4-2dfc842bb9c0"
      },
      "execution_count": null,
      "outputs": [
        {
          "output_type": "execute_result",
          "data": {
            "text/plain": [
              "[Text(0.5, 1.0, 'Normal Gait vs. Crouch Gait')]"
            ]
          },
          "metadata": {},
          "execution_count": 32
        },
        {
          "output_type": "display_data",
          "data": {
            "text/plain": [
              "<Figure size 576x360 with 1 Axes>"
            ],
            "image/png": "[encoded data removed]"
          },
          "metadata": {
            "needs_background": "light"
          }
        }
      ]
    },
    {
      "cell_type": "markdown",
      "source": [
        "**Questions: Hamstrings Length**"
      ],
      "metadata": {
        "id": "x4L_1mUV50_S"
      }
    },
    {
      "cell_type": "markdown",
      "source": [
        "**1.** Study the curves. Based on the plot, how do the peak hamstring lengths in normal and crouch gait compare? For this patient, would you recommend a hamstrings lengthening surgery? "
      ],
      "metadata": {
        "id": "CFKPhBCN56ny"
      }
    },
    {
      "cell_type": "markdown",
      "source": [
        "**2.** What are some limitations of your analysis?"
      ],
      "metadata": {
        "id": "fCAAlC3i-E5J"
      }
    },
    {
      "cell_type": "markdown",
      "source": [
        "## 4.6. Conclussion"
      ],
      "metadata": {
        "id": "i7rhPT2id6gg"
      }
    },
    {
      "cell_type": "markdown",
      "source": [
        "In this tutorial you have downloaded and explored a model of the lower extremity. The, you have used this model to study the angle of the knees using two different motion files captured from two real persons. Finally, you have performed a Muscle Analysis to determine the fiber length of the semitendinous muscle between the two persons."
      ],
      "metadata": {
        "id": "1XK9UgItWQMF"
      }
    },
    {
      "cell_type": "markdown",
      "source": [
        "## 4.7. Useful Links\n",
        "\n",
        "\n",
        "\n"
      ],
      "metadata": {
        "id": "lLWgd8Noun6Y"
      }
    },
    {
      "cell_type": "markdown",
      "source": [
        "> **OpenSim Website:** https://opensim.stanford.edu/\n",
        ">\n",
        "> **OpenSim API Documentation:** https://simtk.org/api_docs/opensim/api_docs/\n",
        "> \n",
        "> **OpenSim Creator Website:** https://opensimcreator.com/\n",
        "> \n",
        "> **SimTK Website:** https://simtk.org/projects/opensim\n",
        "> \n",
        "> **Biomecanics of Movement's Course:** https://www.youtube.com/channel/UCDNGy0KKNLQ-ztcL5h2Z6zA"
      ],
      "metadata": {
        "id": "m8M3dlT5xQcD"
      }
    },
    {
      "cell_type": "markdown",
      "source": [
        "## 4.8. References\n",
        "\n",
        "> [1].   Uchida, T. K., Delp, S. L., & Delp, D. (2021). **Biomechanics of movement: The science of sports, robotics, and rehabilitation.** *MIT Press*. https://mitpress.mit.edu/9780262044202/biomechanics-of-movement/\n",
        ">\n",
        "> [2].   Delp, S. L., Anderson, F. C., Arnold, A. S., Loan, P., Habib, A., John, C. T., Guendelman, E., & Thelen, D. G. (2007). **OpenSim: open-source software to create and analyze dynamic simulations of movement.** *IEEE Transactions on Bio-Medical Engineering*, 54(11), 1940–1950. https://doi.org/10.1109/TBME.2007.901024\n",
        ">\n",
        "> [3].   Delp, S. L., Loan, J. P., Hoy, M. G., Zajac, F. E., Topp, E. L., & Rosen, J. M. (1990). **An interactive graphics-based model of the lower extremity to study orthopaedic surgical procedures.** *IEEE Transactions on Bio-Medical Engineering*, 37(8), 757–767. https://doi.org/10.1109/10.102791\n",
        "> \n",
        "> [4].   Arnold, A. S., Liu, M. Q., Schwartz, M. H., Ounpuu, S., & Delp, S. L. (2006). **The role of estimating muscle-tendon lengths and velocities of the hamstrings in the evaluation and treatment of crouch gait.** *Gait & Posture*, 23(3), 273–281. https://doi.org/10.1016/j.gaitpost.2005.03.003\n"
      ],
      "metadata": {
        "id": "2rwqw1LFq6Lz"
      }
    }
  ]
}
