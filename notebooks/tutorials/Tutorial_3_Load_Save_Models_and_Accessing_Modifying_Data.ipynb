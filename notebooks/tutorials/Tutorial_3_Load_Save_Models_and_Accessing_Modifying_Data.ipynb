{
  "nbformat": 4,
  "nbformat_minor": 0,
  "metadata": {
    "colab": {
      "provenance": [],
      "collapsed_sections": [],
      "include_colab_link": true
    },
    "kernelspec": {
      "name": "python3",
      "display_name": "Python 3"
    },
    "language_info": {
      "name": "python"
    }
  },
  "cells": [
    {
      "cell_type": "markdown",
      "metadata": {
        "id": "view-in-github",
        "colab_type": "text"
      },
      "source": [
        "<a href=\"https://colab.research.google.com/github/opensim-org/conda-opensim/blob/master/notebooks/tutorials/Tutorial_3_Load_Save_Models_and_Accessing_Modifying_Data.ipynb\" target=\"_parent\"><img src=\"https://colab.research.google.com/assets/colab-badge.svg\" alt=\"Open In Colab\"/></a>"
      ]
    },
    {
      "cell_type": "markdown",
      "source": [
        "# 3. Load/Save Models and Accessing/Modifying Data.ipynb"
      ],
      "metadata": {
        "id": "1dzvRcZuYhsP"
      }
    },
    {
      "cell_type": "markdown",
      "source": [
        "## 3.1. Objectives"
      ],
      "metadata": {
        "id": "YLK6vcNo1NHP"
      }
    },
    {
      "cell_type": "markdown",
      "source": [
        "**Purpose**\n",
        "\n",
        "The purpose of this tutorial is to learn to load and save models in [OpenSim](https://opensim.stanford.edu/) [[1]](https://doi.org/10.1109/TBME.2007.901024), as well as to learn to access and modify the data in those models. In this tutorial you will:\n",
        "\n",
        "*   Learn to load an existing model.\n",
        "*   Access and modify the information inside of a model.\n",
        "*   Save your models.\n",
        "\n",
        "**Format**\n",
        "\n",
        "In this tutorial, you will download a model from internet and load it into OpenSim. Then, you will access and print information from the model. Finally, you will modify the model and save and download it to your computer. "
      ],
      "metadata": {
        "id": "TKiEOjfi1LW1"
      }
    },
    {
      "cell_type": "markdown",
      "source": [
        "## 3.2. Setup Conda and OpenSim"
      ],
      "metadata": {
        "id": "ADllcxbsjTr8"
      }
    },
    {
      "cell_type": "markdown",
      "source": [
        "First, set up the environment by executing the following cell (See ***Tutorial 1: Introduction to OpenSim in Colab***)."
      ],
      "metadata": {
        "id": "mmmTuEI4HQJG"
      }
    },
    {
      "cell_type": "code",
      "execution_count": null,
      "metadata": {
        "colab": {
          "base_uri": "https://localhost:8080/"
        },
        "id": "uYZPRpAQxXmp",
        "outputId": "6b4d56f8-d07d-4cce-fbef-d81a9f939244"
      },
      "outputs": [
        {
          "output_type": "stream",
          "name": "stdout",
          "text": [
            "⏬ Downloading https://github.com/jaimergp/miniforge/releases/latest/download/Mambaforge-colab-Linux-x86_64.sh...\n",
            "📦 Installing...\n",
            "📌 Adjusting configuration...\n",
            "🩹 Patching environment...\n",
            "⏲ Done in 0:00:35\n",
            "🔁 Restarting kernel...\n"
          ]
        }
      ],
      "source": [
        "!pip install -q condacolab\n",
        "import condacolab\n",
        "condacolab.install()"
      ]
    },
    {
      "cell_type": "markdown",
      "source": [
        "Now, let's install the OpenSim conda package."
      ],
      "metadata": {
        "id": "GZwWpzHM8tSR"
      }
    },
    {
      "cell_type": "code",
      "source": [
        "!conda install -c opensim-org opensim"
      ],
      "metadata": {
        "colab": {
          "base_uri": "https://localhost:8080/"
        },
        "id": "6l59_J_U8ubr",
        "outputId": "117e9dac-4919-47de-f055-68574f6fe69a"
      },
      "execution_count": null,
      "outputs": [
        {
          "output_type": "stream",
          "name": "stdout",
          "text": [
            "/bin/bash: conda: command not found\n"
          ]
        }
      ]
    },
    {
      "cell_type": "markdown",
      "source": [
        "## 3.3. Load an existing model and explore the data"
      ],
      "metadata": {
        "id": "4gtTNdaO8wOI"
      }
    },
    {
      "cell_type": "markdown",
      "source": [
        "In this section you will download a model from the internet, load it into OpenSim, and explore some of its properties. The model consists on a double pendulum, and it is hosted in a GitHub repository."
      ],
      "metadata": {
        "id": "qQhpl9pUcgPf"
      }
    },
    {
      "cell_type": "markdown",
      "source": [
        "First, let's download the model from the GitHub repository."
      ],
      "metadata": {
        "id": "TIQp3TtGYMyQ"
      }
    },
    {
      "cell_type": "code",
      "source": [
        "import requests\n",
        "\n",
        "# TODO Host tutorial models elsewhere?\n",
        "# Download the model from the GitHub repository.\n",
        "url = 'https://raw.githubusercontent.com/opensim-org/opensim-core/a01cf545485e8bc1f6e50b29ddeab229677de2c5/OpenSim/Simulation/Test/double_pendulum.osim'\n",
        "req = requests.get(url, allow_redirects=True)\n",
        "open('double_pendulum.osim', 'wb').write(req.content)"
      ],
      "metadata": {
        "colab": {
          "base_uri": "https://localhost:8080/"
        },
        "id": "EAb6JtzeYObU",
        "outputId": "12d98ff0-f2b1-4ce5-850c-b129128d23e1"
      },
      "execution_count": null,
      "outputs": [
        {
          "output_type": "execute_result",
          "data": {
            "text/plain": [
              "14435"
            ]
          },
          "metadata": {},
          "execution_count": 2
        }
      ]
    },
    {
      "cell_type": "markdown",
      "source": [
        "Now, let's import opensim, load the model, and print some metadata."
      ],
      "metadata": {
        "id": "_F6Hrnjba7vL"
      }
    },
    {
      "cell_type": "code",
      "source": [
        "import opensim as osim\n",
        "\n",
        "# Load the model.\n",
        "double_pendulum = osim.Model('double_pendulum.osim')\n",
        "\n",
        "# Print metadata.\n",
        "print(\"Name of the model:\", double_pendulum.getName())\n",
        "print(\"Author:\", double_pendulum.get_credits())\n",
        "print(\"Publications:\", double_pendulum.get_publications())\n",
        "print(\"Length Unit:\", double_pendulum.get_length_units())\n",
        "print(\"Force Unit:\", double_pendulum.get_force_units())\n",
        "print(\"Gravity:\", double_pendulum.get_gravity())"
      ],
      "metadata": {
        "colab": {
          "base_uri": "https://localhost:8080/"
        },
        "id": "fmGIZ0Hl8z_G",
        "outputId": "505d8e53-5c1a-49f1-e9bc-57424e9ee5d0"
      },
      "execution_count": null,
      "outputs": [
        {
          "output_type": "stream",
          "name": "stdout",
          "text": [
            "Name of the model: double_pendulum\n",
            "Author: Ajay Seth\n",
            "Publications: For testing\n",
            "Length Unit: meters\n",
            "Force Unit: N\n",
            "Gravity: ~[0,-9.80665,0]\n"
          ]
        }
      ]
    },
    {
      "cell_type": "markdown",
      "source": [
        "Let's explore some of them model's body properties. Since it is a double pendulum, we expect the model to have two bodies."
      ],
      "metadata": {
        "id": "TQG_Qc9_NDsd"
      }
    },
    {
      "cell_type": "code",
      "source": [
        "# Print number of bodies.\n",
        "print(\"Num Bodies:\", double_pendulum.getNumBodies())\n",
        "print()\n",
        "\n",
        "# For each body, print some information like its name or mass.\n",
        "for body in double_pendulum.getBodySet():\n",
        "  print(\"Body Name:\", body.getName())\n",
        "  print(\"Body Absolute Path:\", body.getAbsolutePathString())\n",
        "  print(\"Body Mass:\", body.getMass())\n",
        "  print(\"Body Mass Center:\", body.getMassCenter())\n",
        "  print(\"Body Input Names:\", body.getInputNames())\n",
        "  print()"
      ],
      "metadata": {
        "colab": {
          "base_uri": "https://localhost:8080/"
        },
        "id": "tSs587JhVu5j",
        "outputId": "37eded93-e6f8-4e6b-a8a9-34b03f4c838e"
      },
      "execution_count": null,
      "outputs": [
        {
          "output_type": "stream",
          "name": "stdout",
          "text": [
            "Num Bodies: 2\n",
            "\n",
            "Body Name: rod1\n",
            "Body Absolute Path: /bodyset/rod1\n",
            "Body Mass: 1.0\n",
            "Body Mass Center: ~[0,0.2,0]\n",
            "Body Input Names: ()\n",
            "\n",
            "Body Name: rod2\n",
            "Body Absolute Path: /bodyset/rod2\n",
            "Body Mass: 1.0\n",
            "Body Mass Center: ~[0,0,0]\n",
            "Body Input Names: ()\n",
            "\n"
          ]
        }
      ]
    },
    {
      "cell_type": "markdown",
      "source": [
        "Let's explore some of the model's joint properties. Again, we expect to have two joints. The first one from the ground to rod1, so it is fixed and doesn't fall when you simulate it; and the second one from rod1 to rod2, linking the two bodies of the double pendulum."
      ],
      "metadata": {
        "id": "v_xgSNv9Yz2m"
      }
    },
    {
      "cell_type": "code",
      "source": [
        "# Print number of joints.\n",
        "print(\"Num Joints:\", double_pendulum.getNumJoints())\n",
        "print()\n",
        "\n",
        "# For each joint, print some information like its name or components.\n",
        "for joint in double_pendulum.getJointSet():\n",
        "  print(\"Joint Name:\", joint.getName())\n",
        "  print(\"Joint Absolute Path:\", joint.getAbsolutePathString())\n",
        "  print(\"Components:\")\n",
        "  for component in joint.getComponentsList():\n",
        "    print(\"  Component Name:\", component.getName())\n",
        "    print(\"  Component Absolute Path:\", component.getAbsolutePathString())\n",
        "  print()"
      ],
      "metadata": {
        "colab": {
          "base_uri": "https://localhost:8080/"
        },
        "id": "2laouerdY59s",
        "outputId": "c2048e5e-370e-4a7d-e376-01a96c677f4e"
      },
      "execution_count": null,
      "outputs": [
        {
          "output_type": "stream",
          "name": "stdout",
          "text": [
            "Num Joints: 2\n",
            "\n",
            "Joint Name: pin1\n",
            "Joint Absolute Path: /jointset/pin1\n",
            "Components:\n",
            "  Component Name: q1\n",
            "  Component Absolute Path: /jointset/pin1/q1\n",
            "  Component Name: ground_offset\n",
            "  Component Absolute Path: /jointset/pin1/ground_offset\n",
            "  Component Name: frame_geometry\n",
            "  Component Absolute Path: /jointset/pin1/ground_offset/frame_geometry\n",
            "  Component Name: wrapobjectset\n",
            "  Component Absolute Path: /jointset/pin1/ground_offset/wrapobjectset\n",
            "  Component Name: rod1_offset\n",
            "  Component Absolute Path: /jointset/pin1/rod1_offset\n",
            "  Component Name: frame_geometry\n",
            "  Component Absolute Path: /jointset/pin1/rod1_offset/frame_geometry\n",
            "  Component Name: wrapobjectset\n",
            "  Component Absolute Path: /jointset/pin1/rod1_offset/wrapobjectset\n",
            "\n",
            "Joint Name: pin2\n",
            "Joint Absolute Path: /jointset/pin2\n",
            "Components:\n",
            "  Component Name: q2\n",
            "  Component Absolute Path: /jointset/pin2/q2\n",
            "  Component Name: rod1_offset\n",
            "  Component Absolute Path: /jointset/pin2/rod1_offset\n",
            "  Component Name: frame_geometry\n",
            "  Component Absolute Path: /jointset/pin2/rod1_offset/frame_geometry\n",
            "  Component Name: wrapobjectset\n",
            "  Component Absolute Path: /jointset/pin2/rod1_offset/wrapobjectset\n",
            "  Component Name: rod2_offset\n",
            "  Component Absolute Path: /jointset/pin2/rod2_offset\n",
            "  Component Name: frame_geometry\n",
            "  Component Absolute Path: /jointset/pin2/rod2_offset/frame_geometry\n",
            "  Component Name: wrapobjectset\n",
            "  Component Absolute Path: /jointset/pin2/rod2_offset/wrapobjectset\n",
            "\n"
          ]
        }
      ]
    },
    {
      "cell_type": "markdown",
      "source": [
        "Finally, let's explore the coordinates of the model."
      ],
      "metadata": {
        "id": "hW93EJzR9dFx"
      }
    },
    {
      "cell_type": "code",
      "source": [
        "# Print number of coordinates.\n",
        "print(\"Num Coordinates:\", double_pendulum.getNumCoordinates())\n",
        "print()\n",
        "\n",
        "# For each coordinate, print some information like its name or motion type.\n",
        "for coordinate in double_pendulum.getCoordinateSet():\n",
        "  print(\"  Coordinate Name:\", coordinate.getName())\n",
        "  print(\"  Coordinate Absolute Path:\", coordinate.getAbsolutePathString())\n",
        "  print(\"  Coordinate Motion Type:\", coordinate.getMotionType())\n",
        "  \n",
        "  print()"
      ],
      "metadata": {
        "colab": {
          "base_uri": "https://localhost:8080/"
        },
        "id": "dj2PFUrD9gbF",
        "outputId": "5a14da9d-bbbd-4d31-eabb-2440ed8543fd"
      },
      "execution_count": null,
      "outputs": [
        {
          "output_type": "stream",
          "name": "stdout",
          "text": [
            "Num Coordinates: 2\n",
            "\n",
            "  Coordinate Name: q1\n",
            "  Coordinate Absolute Path: /jointset/pin1/q1\n",
            "  Coordinate Motion Type: 1\n",
            "\n",
            "  Coordinate Name: q2\n",
            "  Coordinate Absolute Path: /jointset/pin2/q2\n",
            "  Coordinate Motion Type: 1\n",
            "\n"
          ]
        }
      ]
    },
    {
      "cell_type": "markdown",
      "source": [
        "## 3.4. Modify the model and save it"
      ],
      "metadata": {
        "id": "v_I5gYAdazmy"
      }
    },
    {
      "cell_type": "markdown",
      "source": [
        "Let's modify some of the model's properties. For example, let's set the gravity of mars to the model, and double the mass of the bodies. After that, we want to save the changes, so we will save the model into a new file."
      ],
      "metadata": {
        "id": "p_zHk2nBctVE"
      }
    },
    {
      "cell_type": "markdown",
      "source": [
        "First, let's modify the gravity of the model to mars' gravity (-3.77), and let's double the mass of the bodies."
      ],
      "metadata": {
        "id": "6cTzUybZm9C1"
      }
    },
    {
      "cell_type": "code",
      "source": [
        "import numpy as np\n",
        "\n",
        "# Set gravity of mars and print it.\n",
        "double_pendulum.set_gravity(osim.Vec3(0, -3.77, 0))\n",
        "print(\"New Gravity:\", double_pendulum.get_gravity())\n",
        "print()\n",
        "\n",
        "# For each body, print its name, set mass as 2Kg, and print new mass.\n",
        "for body in double_pendulum.getBodyList():\n",
        "  print(\"Body Name:\", body.getName())\n",
        "  body.setMass(2.0)\n",
        "  print(\"Body New Mass:\", body.getMass())\n",
        "  print()"
      ],
      "metadata": {
        "colab": {
          "base_uri": "https://localhost:8080/"
        },
        "id": "Q72WxmqOa64r",
        "outputId": "b5d8e9dc-964a-49c7-a9a0-ce8ec149cad3"
      },
      "execution_count": null,
      "outputs": [
        {
          "output_type": "stream",
          "name": "stdout",
          "text": [
            "New Gravity: ~[0,-3.77,0]\n",
            "\n",
            "Body Name: rod1\n",
            "Body New Mass: 2.0\n",
            "\n",
            "Body Name: rod2\n",
            "Body New Mass: 2.0\n",
            "\n"
          ]
        }
      ]
    },
    {
      "cell_type": "markdown",
      "source": [
        "Now, let's save the model into an `osim` file."
      ],
      "metadata": {
        "id": "o5CJiJePnF-4"
      }
    },
    {
      "cell_type": "code",
      "source": [
        "double_pendulum.printToXML('heavy-double-pendulum-mars.osim')"
      ],
      "metadata": {
        "id": "gL0mAwSnbBNi",
        "colab": {
          "base_uri": "https://localhost:8080/"
        },
        "outputId": "9723cd84-8ea1-4df0-9f08-a0b8e2613fee"
      },
      "execution_count": null,
      "outputs": [
        {
          "output_type": "execute_result",
          "data": {
            "text/plain": [
              "True"
            ]
          },
          "metadata": {},
          "execution_count": 9
        }
      ]
    },
    {
      "cell_type": "markdown",
      "source": [
        "The file can be downloaded either by `right-clicking` on it at the left and clicking `download` (if the file is not in the tree at the left, you may need to `right-click` and `refresh`).\n",
        "\n",
        "Alternativelly, you can download the file programatically as shown in the following cell."
      ],
      "metadata": {
        "id": "vpAWFZGHnXzH"
      }
    },
    {
      "cell_type": "code",
      "source": [
        "from google.colab import files\n",
        "\n",
        "files.download('heavy-double-pendulum-mars.osim') "
      ],
      "metadata": {
        "colab": {
          "base_uri": "https://localhost:8080/",
          "height": 17
        },
        "id": "YoBp15HOnrGV",
        "outputId": "af8306a5-946a-4df6-a53d-057e7719a2d9"
      },
      "execution_count": null,
      "outputs": [
        {
          "output_type": "display_data",
          "data": {
            "text/plain": [
              "<IPython.core.display.Javascript object>"
            ],
            "application/javascript": [
              "\n",
              "    async function download(id, filename, size) {\n",
              "      if (!google.colab.kernel.accessAllowed) {\n",
              "        return;\n",
              "      }\n",
              "      const div = document.createElement('div');\n",
              "      const label = document.createElement('label');\n",
              "      label.textContent = `Downloading \"${filename}\": `;\n",
              "      div.appendChild(label);\n",
              "      const progress = document.createElement('progress');\n",
              "      progress.max = size;\n",
              "      div.appendChild(progress);\n",
              "      document.body.appendChild(div);\n",
              "\n",
              "      const buffers = [];\n",
              "      let downloaded = 0;\n",
              "\n",
              "      const channel = await google.colab.kernel.comms.open(id);\n",
              "      // Send a message to notify the kernel that we're ready.\n",
              "      channel.send({})\n",
              "\n",
              "      for await (const message of channel.messages) {\n",
              "        // Send a message to notify the kernel that we're ready.\n",
              "        channel.send({})\n",
              "        if (message.buffers) {\n",
              "          for (const buffer of message.buffers) {\n",
              "            buffers.push(buffer);\n",
              "            downloaded += buffer.byteLength;\n",
              "            progress.value = downloaded;\n",
              "          }\n",
              "        }\n",
              "      }\n",
              "      const blob = new Blob(buffers, {type: 'application/binary'});\n",
              "      const a = document.createElement('a');\n",
              "      a.href = window.URL.createObjectURL(blob);\n",
              "      a.download = filename;\n",
              "      div.appendChild(a);\n",
              "      a.click();\n",
              "      div.remove();\n",
              "    }\n",
              "  "
            ]
          },
          "metadata": {}
        },
        {
          "output_type": "display_data",
          "data": {
            "text/plain": [
              "<IPython.core.display.Javascript object>"
            ],
            "application/javascript": [
              "download(\"download_db5d6d00-82f0-4dbf-8a6e-134d4edbd572\", \"heavy-double-pendulum-mars.osim\", 15340)"
            ]
          },
          "metadata": {}
        }
      ]
    },
    {
      "cell_type": "markdown",
      "source": [
        "## 3.5. Conclussion"
      ],
      "metadata": {
        "id": "i7rhPT2id6gg"
      }
    },
    {
      "cell_type": "markdown",
      "source": [
        "In this tutorial you have downloaded a double pendulum model and loaded it into OpenSim. Then you have explored some of its properties and components, and finally you have modified it and saved it into an osim file, that you can download to your computer."
      ],
      "metadata": {
        "id": "1XK9UgItWQMF"
      }
    },
    {
      "cell_type": "markdown",
      "source": [
        "## 3.6. Useful Links\n",
        "\n",
        "\n",
        "\n"
      ],
      "metadata": {
        "id": "lLWgd8Noun6Y"
      }
    },
    {
      "cell_type": "markdown",
      "source": [
        "> **OpenSim Website:** https://opensim.stanford.edu/\n",
        ">\n",
        "> **OpenSim API Documentation:** https://simtk.org/api_docs/opensim/api_docs/\n",
        "> \n",
        "> **OpenSim Creator Website:** https://opensimcreator.com/\n",
        "> \n",
        "> **SimTK Website:** https://simtk.org/projects/opensim\n",
        "> \n",
        "> **Biomecanics of Movement's Course:** https://www.youtube.com/channel/UCDNGy0KKNLQ-ztcL5h2Z6zA"
      ],
      "metadata": {
        "id": "m8M3dlT5xQcD"
      }
    },
    {
      "cell_type": "markdown",
      "source": [
        "## 3.7. References\n",
        "\n",
        "\n"
      ],
      "metadata": {
        "id": "dxMjdukAnH2N"
      }
    },
    {
      "cell_type": "markdown",
      "source": [
        "> [1].   Delp, S. L., Anderson, F. C., Arnold, A. S., Loan, P., Habib, A., John, C. T., Guendelman, E., & Thelen, D. G. (2007). **OpenSim: open-source software to create and analyze dynamic simulations of movement.** *IEEE Transactions on Bio-Medical Engineering*, 54(11), 1940–1950. https://doi.org/10.1109/TBME.2007.901024"
      ],
      "metadata": {
        "id": "WX2A_iaYulV1"
      }
    }
  ]
}
