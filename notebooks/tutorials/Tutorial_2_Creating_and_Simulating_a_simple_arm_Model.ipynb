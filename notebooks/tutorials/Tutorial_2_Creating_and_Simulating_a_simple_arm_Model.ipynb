{
  "nbformat": 4,
  "nbformat_minor": 0,
  "metadata": {
    "colab": {
      "provenance": [],
      "collapsed_sections": [],
      "include_colab_link": true
    },
    "kernelspec": {
      "name": "python3",
      "display_name": "Python 3"
    },
    "language_info": {
      "name": "python"
    }
  },
  "cells": [
    {
      "cell_type": "markdown",
      "metadata": {
        "id": "view-in-github",
        "colab_type": "text"
      },
      "source": [
        "<a href=\"https://colab.research.google.com/github/opensim-org/conda-opensim/blob/master/notebooks/tutorials/Tutorial_2_Creating_and_Simulating_a_simple_arm_Model.ipynb\" target=\"_parent\"><img src=\"https://colab.research.google.com/assets/colab-badge.svg\" alt=\"Open In Colab\"/></a>"
      ]
    },
    {
      "cell_type": "markdown",
      "source": [
        "# 2. Creating a simple arm model"
      ],
      "metadata": {
        "id": "p60SkX5SZXDS"
      }
    },
    {
      "cell_type": "markdown",
      "source": [
        "## 2.1. Objectives"
      ],
      "metadata": {
        "id": "YLK6vcNo1NHP"
      }
    },
    {
      "cell_type": "markdown",
      "source": [
        "**Purpose**\n",
        "\n",
        "The purpose of this tutorial is to introduce you to the creation of musculoskeletical models using [OpenSim](https://opensim.stanford.edu/) [[1]](https://doi.org/10.1109/TBME.2007.901024). In this tutorial you will:\n",
        "\n",
        "*   Learn to create a simple arm model.\n",
        "*   Simulate the model using Forward Kinematics.\n",
        "*   Plot information obtained from the simulation.\n",
        "\n",
        "**Format**\n",
        "\n",
        "In this tutorial, you will create an arm model. The model is very simple, and consists on two bones (humerus and radius), and a muscle to bend the arm (biceps).\n",
        "\n",
        "The first step of this tutorial consisttts on seting up the environment (See ***Tutorial 1: Introduction to OpenSim in Colab***, and then you will programatically create the model by defining the necessary bodies, muscles and joints. Finally, you will perform Forward Kinematics on the model to obtain kinematic data."
      ],
      "metadata": {
        "id": "TKiEOjfi1LW1"
      }
    },
    {
      "cell_type": "markdown",
      "source": [
        "## 2.2. Setup Conda and OpenSim"
      ],
      "metadata": {
        "id": "ADllcxbsjTr8"
      }
    },
    {
      "cell_type": "markdown",
      "source": [
        "First, set up the environment by executing the following cell (See ***Tutorial 1: Introduction to OpenSim in Colab***)."
      ],
      "metadata": {
        "id": "mmmTuEI4HQJG"
      }
    },
    {
      "cell_type": "code",
      "source": [
        "!pip install -q condacolab\n",
        "import condacolab\n",
        "condacolab.install()"
      ],
      "metadata": {
        "colab": {
          "base_uri": "https://localhost:8080/"
        },
        "id": "kdnS0S_xioqg",
        "outputId": "cab7b5d3-d0e3-487d-db8c-fc7e9a1bf44b"
      },
      "execution_count": null,
      "outputs": [
        {
          "output_type": "stream",
          "name": "stdout",
          "text": [
            "⏬ Downloading https://github.com/jaimergp/miniforge/releases/latest/download/Mambaforge-colab-Linux-x86_64.sh...\n",
            "📦 Installing...\n",
            "📌 Adjusting configuration...\n",
            "🩹 Patching environment...\n",
            "⏲ Done in 0:00:29\n",
            "🔁 Restarting kernel...\n"
          ]
        }
      ]
    },
    {
      "cell_type": "markdown",
      "source": [
        "Now, let's install the OpenSim conda package."
      ],
      "metadata": {
        "id": "RPLBehUAkJ0Z"
      }
    },
    {
      "cell_type": "code",
      "source": [
        "!conda install -c opensim-org opensim"
      ],
      "metadata": {
        "colab": {
          "base_uri": "https://localhost:8080/"
        },
        "id": "6ZnEPfPgjup9",
        "outputId": "70f15e83-24c1-41e6-a202-5ba48c0791c5"
      },
      "execution_count": null,
      "outputs": [
        {
          "output_type": "stream",
          "name": "stdout",
          "text": [
            "Collecting package metadata (current_repodata.json): - \b\b\\ \b\b| \b\b/ \b\b- \b\b\\ \b\b| \b\b/ \b\b- \b\b\\ \b\b| \b\b/ \b\b- \b\b\\ \b\b| \b\b/ \b\b- \b\b\\ \b\b| \b\b/ \b\b- \b\b\\ \b\b| \b\b/ \b\b- \b\b\\ \b\b| \b\b/ \b\b- \b\b\\ \b\b| \b\b/ \b\b- \b\b\\ \b\b| \b\b/ \b\b- \b\b\\ \b\b| \b\b/ \b\b- \b\b\\ \b\b| \b\b/ \b\b- \b\b\\ \b\b| \b\b/ \b\b- \b\b\\ \b\b| \b\b/ \b\b- \b\b\\ \b\b| \b\b/ \b\b- \b\b\\ \b\b| \b\b/ \b\b- \b\b\\ \b\b| \b\b/ \b\b- \b\b\\ \b\b| \b\b/ \b\b- \b\b\\ \b\b| \b\b/ \b\b- \b\b\\ \b\b| \b\b/ \b\b- \b\b\\ \b\b| \b\b/ \b\b- \b\b\\ \b\b| \b\b/ \b\b- \b\b\\ \b\b| \b\b/ \b\b- \b\b\\ \b\b| \b\b/ \b\b- \b\b\\ \b\b| \b\b/ \b\b- \b\b\\ \b\b| \b\b/ \b\b- \b\b\\ \b\b| \b\b/ \b\b- \b\b\\ \b\b| \b\b/ \b\b- \b\b\\ \b\b| \b\b/ \b\b- \b\b\\ \b\b| \b\b/ \b\b- \b\b\\ \b\b| \b\b/ \b\b- \b\b\\ \b\b| \b\b/ \b\b- \b\b\\ \b\b| \b\b/ \b\b- \b\b\\ \b\b| \b\b/ \b\b- \b\b\\ \b\bdone\n",
            "Solving environment: / \b\b- \b\b\\ \b\b| \b\b/ \b\b- \b\b\\ \b\b| \b\b/ \b\b- \b\b\\ \b\b| \b\b/ \b\b- \b\b\\ \b\b| \b\b/ \b\b- \b\b\\ \b\b| \b\b/ \b\b- \b\b\\ \b\b| \b\b/ \b\b- \b\b\\ \b\b| \b\b/ \b\b- \b\b\\ \b\b| \b\b/ \b\b- \b\b\\ \b\b| \b\bdone\n",
            "\n",
            "## Package Plan ##\n",
            "\n",
            "  environment location: /usr/local\n",
            "\n",
            "  added / updated specs:\n",
            "    - opensim\n",
            "\n",
            "\n",
            "The following packages will be downloaded:\n",
            "\n",
            "    package                    |            build\n",
            "    ---------------------------|-----------------\n",
            "    certifi-2022.6.15          |     pyhd8ed1ab_1         154 KB  conda-forge\n",
            "    libblas-3.9.0              |16_linux64_openblas          13 KB  conda-forge\n",
            "    libcblas-3.9.0             |16_linux64_openblas          13 KB  conda-forge\n",
            "    libgfortran-ng-12.1.0      |      h69a702a_16          23 KB  conda-forge\n",
            "    libgfortran5-12.1.0        |      hdcd56e2_16         1.8 MB  conda-forge\n",
            "    liblapack-3.9.0            |16_linux64_openblas          13 KB  conda-forge\n",
            "    libopenblas-0.3.21         |pthreads_h78a6416_2        10.1 MB  conda-forge\n",
            "    numpy-1.21.6               |   py37h976b520_0         6.1 MB  conda-forge\n",
            "    openblas-0.3.21            |pthreads_h320a7e8_2        10.8 MB  conda-forge\n",
            "    opensim-4.4                |        py37np120        68.7 MB  opensim-org\n",
            "    ------------------------------------------------------------\n",
            "                                           Total:        97.7 MB\n",
            "\n",
            "The following NEW packages will be INSTALLED:\n",
            "\n",
            "  libblas            conda-forge/linux-64::libblas-3.9.0-16_linux64_openblas\n",
            "  libcblas           conda-forge/linux-64::libcblas-3.9.0-16_linux64_openblas\n",
            "  libgfortran-ng     conda-forge/linux-64::libgfortran-ng-12.1.0-h69a702a_16\n",
            "  libgfortran5       conda-forge/linux-64::libgfortran5-12.1.0-hdcd56e2_16\n",
            "  liblapack          conda-forge/linux-64::liblapack-3.9.0-16_linux64_openblas\n",
            "  libopenblas        conda-forge/linux-64::libopenblas-0.3.21-pthreads_h78a6416_2\n",
            "  numpy              conda-forge/linux-64::numpy-1.21.6-py37h976b520_0\n",
            "  openblas           conda-forge/linux-64::openblas-0.3.21-pthreads_h320a7e8_2\n",
            "  opensim            opensim-org/linux-64::opensim-4.4-py37np120\n",
            "\n",
            "The following packages will be UPDATED:\n",
            "\n",
            "  certifi            conda-forge/linux-64::certifi-2022.6.~ --> conda-forge/noarch::certifi-2022.6.15-pyhd8ed1ab_1\n",
            "\n",
            "\n",
            "\n",
            "Downloading and Extracting Packages\n",
            "libcblas-3.9.0       | 13 KB     | : 100% 1.0/1 [00:00<00:00,  7.14it/s]\n",
            "libopenblas-0.3.21   | 10.1 MB   | : 100% 1.0/1 [00:02<00:00,  2.25s/it]               \n",
            "libgfortran5-12.1.0  | 1.8 MB    | : 100% 1.0/1 [00:00<00:00,  2.42it/s]\n",
            "openblas-0.3.21      | 10.8 MB   | : 100% 1.0/1 [00:02<00:00,  2.99s/it]              \n",
            "numpy-1.21.6         | 6.1 MB    | : 100% 1.0/1 [00:01<00:00,  1.68s/it]               \n",
            "certifi-2022.6.15    | 154 KB    | : 100% 1.0/1 [00:00<00:00, 10.10it/s]\n",
            "opensim-4.4          | 68.7 MB   | : 100% 1.0/1 [00:18<00:00, 18.89s/it]\n",
            "libgfortran-ng-12.1. | 23 KB     | : 100% 1.0/1 [00:00<00:00, 11.57it/s]\n",
            "libblas-3.9.0        | 13 KB     | : 100% 1.0/1 [00:00<00:00, 14.78it/s]\n",
            "liblapack-3.9.0      | 13 KB     | : 100% 1.0/1 [00:00<00:00, 11.20it/s]\n",
            "Preparing transaction: - \b\b\\ \b\bdone\n",
            "Verifying transaction: / \b\b- \b\b\\ \b\b| \b\b/ \b\b- \b\b\\ \b\b| \b\b/ \b\b- \b\b\\ \b\b| \b\b/ \b\b- \b\b\\ \b\b| \b\b/ \b\b- \b\b\\ \b\b| \b\b/ \b\bdone\n",
            "Executing transaction: \\ \b\b| \b\b/ \b\b- \b\b\\ \b\b| \b\b/ \b\b- \b\b\\ \b\b| \b\b/ \b\b- \b\b\\ \b\b| \b\b/ \b\b- \b\b\\ \b\b| \b\b/ \b\b- \b\b\\ \b\b| \b\b/ \b\b- \b\b\\ \b\bdone\n",
            "Retrieving notices: ...working... done\n"
          ]
        }
      ]
    },
    {
      "cell_type": "markdown",
      "source": [
        "## 2.3. Create the model"
      ],
      "metadata": {
        "id": "Q85J8kOTj69D"
      }
    },
    {
      "cell_type": "markdown",
      "source": [
        "Now it's time to create the model. First, you are going to import opensim and create an empty model named \"bicep_curl\"."
      ],
      "metadata": {
        "id": "U_hlEyz5HT4E"
      }
    },
    {
      "cell_type": "code",
      "source": [
        "import opensim as osim\n",
        "\n",
        "# Create empty model and assign the name \"bicep_curl\" to it.\n",
        "arm = osim.Model()\n",
        "arm.setName(\"bicep_curl\")"
      ],
      "metadata": {
        "id": "ChnLbJ0CkSH7"
      },
      "execution_count": null,
      "outputs": []
    },
    {
      "cell_type": "markdown",
      "source": [
        "Now let's create two bodies (the bones), each with a mass of 1kg. The center of mass is at the body¡s origin in both bones (`osim.Vec3(0)`), and the moments and products of inertia correspond to ellipsoids with radios of 0.1, 0.5 and 0.1, in the x, y and z directions, respectively."
      ],
      "metadata": {
        "id": "ENIL146IlcUk"
      }
    },
    {
      "cell_type": "code",
      "source": [
        "# Define humerus.\n",
        "humerus = osim.Body(\"humerus\",\n",
        "                    1.0,\n",
        "                    osim.Vec3(0),\n",
        "                    osim.Inertia(0.1, 0.5, 0.1))\n",
        "\n",
        "# Define radius.\n",
        "radius = osim.Body(\"radius\",\n",
        "                   1.0,\n",
        "                   osim.Vec3(0),\n",
        "                   osim.Inertia(0.1, 0.5, 0.1))"
      ],
      "metadata": {
        "id": "JP4vs1OtlfOa"
      },
      "execution_count": null,
      "outputs": []
    },
    {
      "cell_type": "markdown",
      "source": [
        "The model needs pin joints. The first pin joint corresponds with the shoulder, and connects the upper extreme of the humerus with the ground (the humerus is the root of the model). The second pin joint corresponds with the elbow and connects the lower extreme of the humerus with the upper extreme of the radius. Assume each body is 1m long."
      ],
      "metadata": {
        "id": "JZM8_weblhfc"
      }
    },
    {
      "cell_type": "code",
      "source": [
        "# Shoulder pin joint from the ground to the humerus, so it is fixed and don't fall.\n",
        "shoulder = osim.PinJoint(\"shoulder\",\n",
        "                         arm.getGround(), # PhysicalFrame\n",
        "                         osim.Vec3(0),\n",
        "                         osim.Vec3(0),\n",
        "                         humerus, # PhysicalFrame\n",
        "                         osim.Vec3(0, 0.5, 0),\n",
        "                         osim.Vec3(0))\n",
        "\n",
        "# Elbow pin joint from the humerus to the radius.\n",
        "elbow = osim.PinJoint(\"elbow\",\n",
        "                      humerus, # PhysicalFrame\n",
        "                      osim.Vec3(0, -0.5, 0),\n",
        "                      osim.Vec3(0),\n",
        "                      radius, # PhysicalFrame\n",
        "                      osim.Vec3(0, 0.5, 0),\n",
        "                      osim.Vec3(0))"
      ],
      "metadata": {
        "id": "QxAX4pUrli0N"
      },
      "execution_count": null,
      "outputs": []
    },
    {
      "cell_type": "markdown",
      "source": [
        "In order to flex the elbow, now you will add a muscle (actuator for robotics people) representing the biceps to the model. The muscle is created as a configurable equilibrium muscle [[2]](https://doi.org/10.1115/1.4023390), and has a maximum isometric force of 100, optimal fibre length of 0.6, tendom slack length of 0.55, and null pennation angle. Then, two path points are defined as the origin point of the muscle in the humerus, and the insertion point of the muscle in the radius.\n"
      ],
      "metadata": {
        "id": "MmIGq-lYlk2W"
      }
    },
    {
      "cell_type": "code",
      "source": [
        "# Define the bideps as an equilibrium muscle.\n",
        "biceps = osim.Millard2012EquilibriumMuscle(\"biceps\",  # Muscle name\n",
        "                                           100.0,  # Max isometric force\n",
        "                                           0.6,  # Optimal fibre length\n",
        "                                           0.55,  # Tendon slack length\n",
        "                                           0.0)  # Pennation angle\n",
        "\n",
        "# Add path points to the humerus and radius, to perform forces to them.\n",
        "biceps.addNewPathPoint(\"origin\",\n",
        "                       humerus,\n",
        "                       osim.Vec3(0, 0.3, 0))\n",
        "biceps.addNewPathPoint(\"insertion\",\n",
        "                       radius,\n",
        "                       osim.Vec3(0, 0.2, 0))"
      ],
      "metadata": {
        "id": "BkNnZOJtllMu"
      },
      "execution_count": null,
      "outputs": []
    },
    {
      "cell_type": "markdown",
      "source": [
        "In order to excitate the muscle (activate the actuator), the model needs a controler. In the following cell you will created a prescribed controler, add the biceps as actuator to the controller, and specify the excitation of the muscle."
      ],
      "metadata": {
        "id": "w4dbDoA6loHI"
      }
    },
    {
      "cell_type": "code",
      "source": [
        "# Create a controller, add the actuator (muscle) to it, and specify excitation.\n",
        "brain = osim.PrescribedController()\n",
        "brain.addActuator(biceps)\n",
        "brain.prescribeControlForActuator(\"biceps\", osim.StepFunction(0.5, 3.0, 0.3, 1.0))"
      ],
      "metadata": {
        "id": "IKcMjiBIlpY2"
      },
      "execution_count": null,
      "outputs": []
    },
    {
      "cell_type": "markdown",
      "source": [
        "Now that every component of the model has been defined, let's add all of the elements to the arm model. Remember that the elements that you have defined are the bodies (bones) of the model, the joints of the model, an actuator (muscle) that performs a force over the model, and a controller (brain) that specifies how the actuator works."
      ],
      "metadata": {
        "id": "9YB5snO5lruj"
      }
    },
    {
      "cell_type": "code",
      "source": [
        "# Add all of the elements defined in previous cells to the model.\n",
        "arm.addBody(humerus)\n",
        "arm.addBody(radius)\n",
        "arm.addJoint(shoulder)\n",
        "arm.addJoint(elbow)\n",
        "arm.addForce(biceps)\n",
        "arm.addController(brain)"
      ],
      "metadata": {
        "id": "glSBsxAaltLg"
      },
      "execution_count": null,
      "outputs": []
    },
    {
      "cell_type": "markdown",
      "source": [
        "Now that you have build the model, you have to initialize the system. Since the shoulder is the anchored joint, it needs to be locked. The elbow needs to have an initial angle, wich we set to 0.5π rad (90º). Finally, we update the state of the muscle so it is in equilibrium."
      ],
      "metadata": {
        "id": "wGKY1uv2l3vt"
      }
    },
    {
      "cell_type": "code",
      "source": [
        "# Initialize model.\n",
        "state = arm.initSystem()\n",
        "\n",
        "# Fix the shoulder at its default angle and begin with the elbow flexed 90º degrees.\n",
        "shoulder.getCoordinate().setLocked(state, True)\n",
        "elbow.getCoordinate().setValue(state, 0.5 * osim.SimTK_PI)\n",
        "arm.equilibrateMuscles(state)"
      ],
      "metadata": {
        "id": "npMwjT5ol3_V"
      },
      "execution_count": null,
      "outputs": []
    },
    {
      "cell_type": "markdown",
      "source": [
        "Now, you can simulate the model. First, let's create a manager for the simulation and set the starting time to the state. Then, let's perform a Forward Kinetics simulation [[3]](https://mitpress.mit.edu/9780262044202/biomechanics-of-movement/) (Integrate the equations of motion for the specified model, given the current state with a starting time and a final time). This will return a new state with the results of the simulation."
      ],
      "metadata": {
        "id": "MqQqxE20l-Yd"
      }
    },
    {
      "cell_type": "code",
      "source": [
        "# Simulation parameters (Feel free to change this)\n",
        "starting_time =  0.0\n",
        "ending_time = 10.0\n",
        "\n",
        "# Initialize the system and set initial time.\n",
        "state.setTime(starting_time)\n",
        "\n",
        "# Get and initialize manager with the state.\n",
        "manager = osim.Manager(arm)\n",
        "manager.initialize(state)\n",
        "\n",
        "# Integrate the model until the ending time.\n",
        "state = manager.integrate(ending_time)"
      ],
      "metadata": {
        "id": "vBpKDPgsl_Zh"
      },
      "execution_count": null,
      "outputs": []
    },
    {
      "cell_type": "markdown",
      "source": [
        "Now that the simulation has been done, you can extract the table of states. Let's also print the column labels so we have the paths of the values we can plot."
      ],
      "metadata": {
        "id": "XEumXmZyWQ2b"
      }
    },
    {
      "cell_type": "code",
      "source": [
        "# Extract table of states.\n",
        "statesTable = manager.getStatesTable()\n",
        "\n",
        "# Print labels of columns in the table.\n",
        "print(statesTable.getColumnLabels())"
      ],
      "metadata": {
        "colab": {
          "base_uri": "https://localhost:8080/"
        },
        "id": "mbLScbezWa2W",
        "outputId": "9ecf2828-abdd-45c5-ce68-89e8a977caef"
      },
      "execution_count": null,
      "outputs": [
        {
          "output_type": "stream",
          "name": "stdout",
          "text": [
            "('/jointset/shoulder/shoulder_coord_0/value', '/jointset/shoulder/shoulder_coord_0/speed', '/jointset/elbow/elbow_coord_0/value', '/jointset/elbow/elbow_coord_0/speed', '/forceset/biceps/activation', '/forceset/biceps/fiber_length')\n"
          ]
        }
      ]
    },
    {
      "cell_type": "markdown",
      "source": [
        "We want to plot the shoulder and elbow positions and speed, as well of the biceps activation and fiber length over time. Lets extract the desired data from the table of state."
      ],
      "metadata": {
        "id": "KqD7waFqRo_W"
      }
    },
    {
      "cell_type": "code",
      "source": [
        "# Extract time values for the x axis.\n",
        "times = statesTable.getIndependentColumn()\n",
        "\n",
        "# Extract shoulder data.\n",
        "shoulder_pos = statesTable.getDependentColumn('/jointset/shoulder/shoulder_coord_0/value')\n",
        "shoulder_speed = statesTable.getDependentColumn('/jointset/shoulder/shoulder_coord_0/speed')\n",
        "\n",
        "# Extract elbow data.\n",
        "elbow_pos = statesTable.getDependentColumn('/jointset/elbow/elbow_coord_0/value')\n",
        "elbow_speed = statesTable.getDependentColumn('/jointset/elbow/elbow_coord_0/speed')\n",
        "\n",
        "# Extract biceps data.\n",
        "biceps_activation = statesTable.getDependentColumn('/forceset/biceps/activation')\n",
        "biceps_fiber_length = statesTable.getDependentColumn('/forceset/biceps/fiber_length')"
      ],
      "metadata": {
        "id": "HNWVlK-VRp2C"
      },
      "execution_count": null,
      "outputs": []
    },
    {
      "cell_type": "markdown",
      "source": [
        "## 2.4. Plotting data"
      ],
      "metadata": {
        "id": "PAJ0FRKHardS"
      }
    },
    {
      "cell_type": "markdown",
      "source": [
        "In this section you are going to plot the results of the simulation using two well known python libraries: Matplotlib abd Seaborn."
      ],
      "metadata": {
        "id": "D-iFifvcVR5U"
      }
    },
    {
      "cell_type": "markdown",
      "source": [
        "### 2.4.1. Matplotlib"
      ],
      "metadata": {
        "id": "3Jz-P9icR6qL"
      }
    },
    {
      "cell_type": "markdown",
      "source": [
        "The following cell plots the desired columns (shoulder_pos, shoulder_speed, elbow_pos, elbow_speed, biceps_act and biceps_fib_len) using matplotlib. Each column is plotted in a different subplot."
      ],
      "metadata": {
        "id": "hMcUMQ7hVl-0"
      }
    },
    {
      "cell_type": "code",
      "source": [
        "import matplotlib.pyplot as plt\n",
        "import numpy as np\n",
        "\n",
        "# Create six subplots.\n",
        "fig, axs = plt.subplots(2, 3, figsize=(10, 8))\n",
        "fig.suptitle('Arm model data representation')\n",
        "\n",
        "# Shoulder pos and speed to column 1.\n",
        "axs[0, 0].plot(times, shoulder_pos.to_numpy())\n",
        "axs[0, 0].set_title('Shoulder pos.')\n",
        "axs[1, 0].plot(times, shoulder_speed.to_numpy())\n",
        "axs[1, 0].set_title('Shoulder speed')\n",
        "\n",
        "# Elbow pos and speed to column 2.\n",
        "axs[0, 1].plot(times, elbow_pos.to_numpy())\n",
        "axs[0, 1].set_title('Elbow pos.')\n",
        "axs[1, 1].plot(times, elbow_speed.to_numpy())\n",
        "axs[1, 1].set_title('Elbow speed')\n",
        "\n",
        "# Biceps act and length to column 3.\n",
        "axs[0, 2].plot(times, biceps_activation.to_numpy())\n",
        "axs[0, 2].set_title('Biceps act.')\n",
        "axs[1, 2].plot(times, biceps_fiber_length.to_numpy())\n",
        "axs[1, 2].set_title('Biceps fiber length')\n",
        "\n",
        "# Set the spacing between subplots\n",
        "plt.subplots_adjust(wspace=0.5, hspace=0.5)"
      ],
      "metadata": {
        "colab": {
          "base_uri": "https://localhost:8080/",
          "height": 540
        },
        "id": "H1IUJNkQR8f0",
        "outputId": "bf956391-547a-469e-8e5f-9dabc3f57265"
      },
      "execution_count": null,
      "outputs": [
        {
          "output_type": "display_data",
          "data": {
            "text/plain": [
              "<Figure size 720x576 with 6 Axes>"
            ],
            "image/png": "[encoded data removed]"
          },
          "metadata": {
            "needs_background": "light"
          }
        }
      ]
    },
    {
      "cell_type": "markdown",
      "source": [
        "### 2.4.2. Seaborn"
      ],
      "metadata": {
        "id": "kX6MdpfEa3aS"
      }
    },
    {
      "cell_type": "markdown",
      "source": [
        "The following cell plots the desired columns (shoulder_pos, shoulder_speed, elbow_pos, elbow_speed, biceps_act and biceps_fib_len) using seaborn. Each column is plotted in a different subplot."
      ],
      "metadata": {
        "id": "-Vu58PadWMQh"
      }
    },
    {
      "cell_type": "code",
      "source": [
        "import seaborn as sns\n",
        "import matplotlib.pyplot as plt\n",
        "import numpy as np\n",
        "\n",
        "fig, axes = plt.subplots(2, 3, figsize=(10, 8))\n",
        "\n",
        "fig.suptitle('Arm model data representation')\n",
        "\n",
        "# Shoulder pos and speed to column 1.\n",
        "sns.lineplot(x=times, y=shoulder_pos.to_numpy(), ax=axes[0, 0]).set(title='Shoulder pos.')\n",
        "sns.lineplot(x=times, y=shoulder_speed.to_numpy(), ax=axes[1, 0]).set(title='Shoulder speed')\n",
        "\n",
        "# Elbow pos and speed to column 2.\n",
        "sns.lineplot(x=times, y=elbow_pos.to_numpy(), ax=axes[0, 1]).set(title='Elbow pos.')\n",
        "sns.lineplot(x=times, y=elbow_speed.to_numpy(), ax=axes[1, 1]).set(title='Elbow speed')\n",
        "\n",
        "# Biceps act and length to column 3.\n",
        "sns.lineplot(x=times, y=biceps_activation.to_numpy(), ax=axes[0, 2]).set(title='Biceps act.')\n",
        "sns.lineplot(x=times, y=biceps_fiber_length.to_numpy(), ax=axes[1, 2]).set(title='Biceps fiber length')\n",
        "\n",
        "# Set the spacing between subplots\n",
        "plt.subplots_adjust(wspace=0.5, hspace=0.5)"
      ],
      "metadata": {
        "colab": {
          "base_uri": "https://localhost:8080/",
          "height": 540
        },
        "id": "HuquEKo-a4_E",
        "outputId": "4dddde93-2bd7-47f6-f3c4-7b9264736b66"
      },
      "execution_count": null,
      "outputs": [
        {
          "output_type": "display_data",
          "data": {
            "text/plain": [
              "<Figure size 720x576 with 6 Axes>"
            ],
            "image/png": "[encoded data removed]"
          },
          "metadata": {
            "needs_background": "light"
          }
        }
      ]
    },
    {
      "cell_type": "markdown",
      "source": [
        "## 2.5. Conclussion"
      ],
      "metadata": {
        "id": "i7rhPT2id6gg"
      }
    },
    {
      "cell_type": "markdown",
      "source": [
        "In this tutorial you have created a simple arm model defined by two bones (bodies), two joints and a muscle (actuator). Then, you have simulated the model and represented the calculated values.\n",
        "\n",
        "To create more complex models graphically and visualize them, check [OpenSim Creator](https://opensimcreator.com/). OpenSim Creator is open-source software that enables people to visually build, edit, and simulate OpenSim models. Available for free on Windows, Mac, and Linux."
      ],
      "metadata": {
        "id": "1XK9UgItWQMF"
      }
    },
    {
      "cell_type": "markdown",
      "source": [
        "## 2.6. Useful Links\n",
        "\n",
        "\n",
        "\n"
      ],
      "metadata": {
        "id": "lLWgd8Noun6Y"
      }
    },
    {
      "cell_type": "markdown",
      "source": [
        "> **OpenSim Website:** https://opensim.stanford.edu/\n",
        ">\n",
        "> **OpenSim API Documentation:** https://simtk.org/api_docs/opensim/api_docs/\n",
        "> \n",
        "> **OpenSim Creator Website:** https://opensimcreator.com/\n",
        "> \n",
        "> **SimTK Website:** https://simtk.org/projects/opensim\n",
        "> \n",
        "> **Biomecanics of Movement's Course:** https://www.youtube.com/channel/UCDNGy0KKNLQ-ztcL5h2Z6zA"
      ],
      "metadata": {
        "id": "m8M3dlT5xQcD"
      }
    },
    {
      "cell_type": "markdown",
      "source": [
        "## 2.7. References\n",
        "\n",
        "\n"
      ],
      "metadata": {
        "id": "dxMjdukAnH2N"
      }
    },
    {
      "cell_type": "markdown",
      "source": [
        "> [1].   Delp, S. L., Anderson, F. C., Arnold, A. S., Loan, P., Habib, A., John, C. T., Guendelman, E., & Thelen, D. G. (2007). **OpenSim: open-source software to create and analyze dynamic simulations of movement.** *IEEE Transactions on Bio-Medical Engineering*, 54(11), 1940–1950. https://doi.org/10.1109/TBME.2007.901024\n",
        ">\n",
        "> [2] Millard, M., Uchida, T., Seth, A., & Delp, S. L. (2013). **Flexing computational muscle: Modeling and simulation of musculotendon dynamics.** *Journal of Biomechanical Engineering*, 135(2). https://doi.org/10.1115/1.4023390\n",
        ">\n",
        "> [3].   Uchida, T. K., Delp, S. L., & Delp, D. (2021). **Biomechanics of movement: The science of sports, robotics, and rehabilitation.** *MIT Press*. https://mitpress.mit.edu/9780262044202/biomechanics-of-movement/"
      ],
      "metadata": {
        "id": "WX2A_iaYulV1"
      }
    }
  ]
}
